{
 "cells": [
  {
   "cell_type": "markdown",
   "metadata": {
    "colab_type": "text",
    "id": "ZL_6GK8qX35J"
   },
   "source": [
    "\n",
    "\n",
    "# Week 1: Multiple Output Models using the Keras Functional API\n",
    "\n",
    "Welcome to the first programming assignment of the course! Your task will be to use the Keras functional API to train a model to predict two outputs. For this lab, you will use the **[Wine Quality Dataset](https://archive.ics.uci.edu/ml/datasets/Wine+Quality)** from the **UCI machine learning repository**. It has separate datasets for red wine and white wine.\n",
    "\n",
    "Normally, the wines are classified into one of the quality ratings specified in the attributes. In this exercise, you will combine the two datasets to predict the wine quality and whether the wine is red or white solely from the attributes. \n",
    "\n",
    "You will model wine quality estimations as a regression problem and wine type detection as a binary classification problem.\n",
    "\n",
    "#### Please complete sections that are marked **(TODO)**"
   ]
  },
  {
   "cell_type": "markdown",
   "metadata": {
    "colab_type": "text",
    "id": "obdcD6urYBY9"
   },
   "source": [
    "## Imports"
   ]
  },
  {
   "cell_type": "code",
   "execution_count": 1,
   "metadata": {
    "colab": {},
    "colab_type": "code",
    "id": "t8N3pcTQ5oQI"
   },
   "outputs": [],
   "source": [
    "import tensorflow as tf\n",
    "from tensorflow.keras.models import Model\n",
    "from tensorflow.keras.layers import Dense, Input\n",
    "\n",
    "import numpy as np\n",
    "import matplotlib.pyplot as plt\n",
    "import pandas as pd\n",
    "from sklearn.model_selection import train_test_split\n",
    "from sklearn.metrics import confusion_matrix\n",
    "import itertools\n",
    "\n",
    "import utils"
   ]
  },
  {
   "cell_type": "markdown",
   "metadata": {
    "colab_type": "text",
    "id": "gQMERzWQYpgm"
   },
   "source": [
    "## Load Dataset\n",
    "\n",
    "\n",
    "You will now download the dataset from the [UCI Machine Learning Repository](https://archive.ics.uci.edu/ml/index.php). \n",
    "\n",
    "### Pre-process the white wine dataset (TODO)\n",
    "You will add a new column named `is_red` in your dataframe to indicate if the wine is white or red. \n",
    "- In the white wine dataset, you will fill the column `is_red` with  zeros (0)."
   ]
  },
  {
   "cell_type": "code",
   "execution_count": 2,
   "metadata": {
    "colab": {},
    "colab_type": "code",
    "deletable": false,
    "id": "2qYAjKXCd4RH",
    "nbgrader": {
     "cell_type": "code",
     "checksum": "cb9f284ba6255170fe04a309a407d72d",
     "grade": false,
     "grade_id": "cell-e5bfa0f152d9a21f",
     "locked": false,
     "schema_version": 3,
     "solution": true,
     "task": false
    }
   },
   "outputs": [],
   "source": [
    "# URL of the white wine dataset\n",
    "URL = 'http://archive.ics.uci.edu/ml/machine-learning-databases/wine-quality/winequality-white.csv'\n",
    "\n",
    "# load the dataset from the URL\n",
    "white_df = pd.read_csv(URL, sep=\";\")\n",
    "\n",
    "# fill the `is_red` column with zeros.\n",
    "white_df[\"is_red\"] = 0\n",
    "\n",
    "# keep only the first of duplicate items\n",
    "white_df = white_df.drop_duplicates(keep='first')\n"
   ]
  },
  {
   "cell_type": "code",
   "execution_count": 3,
   "metadata": {
    "deletable": false,
    "editable": false,
    "nbgrader": {
     "cell_type": "code",
     "checksum": "defe38d6ec58fd31cd67b89e46c4373f",
     "grade": true,
     "grade_id": "cell-30575e713b55fc51",
     "locked": true,
     "points": 1,
     "schema_version": 3,
     "solution": false,
     "task": false
    }
   },
   "outputs": [
    {
     "name": "stdout",
     "output_type": "stream",
     "text": [
      "\u001b[92m All public tests passed\n"
     ]
    }
   ],
   "source": [
    "# You can click `File -> Open` in the menu above and open the `utils.py` file \n",
    "# in case you want to inspect the unit tests being used for each graded function.\n",
    "\n",
    "utils.test_white_df(white_df)\n"
   ]
  },
  {
   "cell_type": "code",
   "execution_count": 4,
   "metadata": {
    "colab": {},
    "colab_type": "code",
    "id": "OQHK0ohBQRCk"
   },
   "outputs": [
    {
     "name": "stdout",
     "output_type": "stream",
     "text": [
      "8.8\n",
      "9.1\n"
     ]
    }
   ],
   "source": [
    "print(white_df.alcohol[0])\n",
    "print(white_df.alcohol[100])\n",
    "\n",
    "# EXPECTED OUTPUT\n",
    "# 8.8\n",
    "# 9.1"
   ]
  },
  {
   "cell_type": "markdown",
   "metadata": {},
   "source": [
    "### Pre-process the red wine dataset (TODO)\n",
    "- In the red wine dataset, you will fill in the column `is_red` with ones (1)."
   ]
  },
  {
   "cell_type": "code",
   "execution_count": 5,
   "metadata": {
    "colab": {},
    "colab_type": "code",
    "deletable": false,
    "id": "8y3QxKwBed8v",
    "nbgrader": {
     "cell_type": "code",
     "checksum": "be72275f78e2c2d0038dde9aa63f8d4f",
     "grade": false,
     "grade_id": "cell-e47a40f306593274",
     "locked": false,
     "schema_version": 3,
     "solution": true,
     "task": false
    }
   },
   "outputs": [],
   "source": [
    "# URL of the red wine dataset\n",
    "URL = 'http://archive.ics.uci.edu/ml/machine-learning-databases/wine-quality/winequality-red.csv'\n",
    "\n",
    "# load the dataset from the URL\n",
    "red_df = pd.read_csv(URL, sep=\";\")\n",
    "\n",
    "# fill the `is_red` column with ones.\n",
    "red_df[\"is_red\"] = 1\n",
    "\n",
    "# keep only the first of duplicate items\n",
    "red_df = red_df.drop_duplicates(keep='first')\n"
   ]
  },
  {
   "cell_type": "code",
   "execution_count": 6,
   "metadata": {
    "deletable": false,
    "editable": false,
    "nbgrader": {
     "cell_type": "code",
     "checksum": "d8e0c91b0fd668b63ba74a8f2f958b59",
     "grade": true,
     "grade_id": "cell-2a75937adcc0c25b",
     "locked": true,
     "points": 1,
     "schema_version": 3,
     "solution": false,
     "task": false
    }
   },
   "outputs": [
    {
     "name": "stdout",
     "output_type": "stream",
     "text": [
      "\u001b[92m All public tests passed\n"
     ]
    }
   ],
   "source": [
    "utils.test_red_df(red_df)\n"
   ]
  },
  {
   "cell_type": "code",
   "execution_count": 7,
   "metadata": {
    "colab": {},
    "colab_type": "code",
    "id": "zsB3LUzNQpo_"
   },
   "outputs": [
    {
     "name": "stdout",
     "output_type": "stream",
     "text": [
      "9.4\n",
      "10.2\n"
     ]
    }
   ],
   "source": [
    "print(red_df.alcohol[0])\n",
    "print(red_df.alcohol[100])\n",
    "\n",
    "# EXPECTED OUTPUT\n",
    "# 9.4\n",
    "# 10.2"
   ]
  },
  {
   "cell_type": "markdown",
   "metadata": {
    "colab_type": "text",
    "id": "2G8B-NYuM6-f"
   },
   "source": [
    "### Concatenate the datasets\n",
    "\n",
    "Next, concatenate the red and white wine dataframes."
   ]
  },
  {
   "cell_type": "code",
   "execution_count": 8,
   "metadata": {
    "colab": {},
    "colab_type": "code",
    "id": "YpQrOjJbfN3m"
   },
   "outputs": [],
   "source": [
    "df = pd.concat([red_df, white_df], ignore_index=True)"
   ]
  },
  {
   "cell_type": "code",
   "execution_count": 9,
   "metadata": {
    "colab": {},
    "colab_type": "code",
    "id": "Se2dTmThQyjb"
   },
   "outputs": [
    {
     "name": "stdout",
     "output_type": "stream",
     "text": [
      "9.4\n",
      "9.5\n"
     ]
    }
   ],
   "source": [
    "print(df.alcohol[0])\n",
    "print(df.alcohol[100])\n",
    "\n",
    "# EXPECTED OUTPUT\n",
    "# 9.4\n",
    "# 9.5"
   ]
  },
  {
   "cell_type": "code",
   "execution_count": null,
   "metadata": {
    "colab": {},
    "colab_type": "code",
    "id": "wx6y3rPpQv4k"
   },
   "outputs": [],
   "source": [
    "# NOTE: In a real-world scenario, you should shuffle the data.\n",
    "# YOU ARE NOT going to do that here because we want to test\n",
    "# with deterministic data. But if you want the code to do it,\n",
    "# it's in the commented line below:\n",
    "\n",
    "#df = df.iloc[np.random.permutation(len(df))]"
   ]
  },
  {
   "cell_type": "markdown",
   "metadata": {
    "colab_type": "text",
    "id": "-EqIcbg5M_n1"
   },
   "source": [
    "This will chart the quality of the wines."
   ]
  },
  {
   "cell_type": "code",
   "execution_count": 12,
   "metadata": {
    "colab": {},
    "colab_type": "code",
    "id": "IsvK0-Sgy17C"
   },
   "outputs": [
    {
     "data": {
      "image/png": "[encoded data removed]",
      "text/plain": [
       "<Figure size 432x288 with 1 Axes>"
      ]
     },
     "metadata": {
      "needs_background": "light"
     },
     "output_type": "display_data"
    }
   ],
   "source": [
    "df['quality'].hist(bins=20);"
   ]
  },
  {
   "cell_type": "markdown",
   "metadata": {
    "colab_type": "text",
    "id": "Nut1rmYLzf-p"
   },
   "source": [
    "### Imbalanced data (TODO)\n",
    "You can see from the plot above that the wine quality dataset is imbalanced. \n",
    "- Since there are very few observations with quality equal to 3, 4, 8 and 9, you can drop these observations from your dataset. \n",
    "- You can do this by removing data belonging to all classes except those > 4 and < 8."
   ]
  },
  {
   "cell_type": "code",
   "execution_count": 13,
   "metadata": {
    "colab": {},
    "colab_type": "code",
    "deletable": false,
    "id": "doH9_-gnf3sz",
    "nbgrader": {
     "cell_type": "code",
     "checksum": "d9ba9fc3a3ca02ccc567be33652b80fe",
     "grade": false,
     "grade_id": "cell-6a3e9db696f6827b",
     "locked": false,
     "schema_version": 3,
     "solution": true,
     "task": false
    }
   },
   "outputs": [],
   "source": [
    "# get data with wine quality greater than 4 and less than 8\n",
    "df = df[(df['quality'] > 4) & (df['quality'] < 8 )]\n",
    "\n",
    "# reset index and drop the old one\n",
    "df = df.reset_index(drop=True)"
   ]
  },
  {
   "cell_type": "code",
   "execution_count": 14,
   "metadata": {
    "deletable": false,
    "editable": false,
    "nbgrader": {
     "cell_type": "code",
     "checksum": "281e1d86a4803560ed5892cd7eda4c01",
     "grade": true,
     "grade_id": "cell-aed3da719d4682c7",
     "locked": true,
     "points": 1,
     "schema_version": 3,
     "solution": false,
     "task": false
    }
   },
   "outputs": [
    {
     "name": "stdout",
     "output_type": "stream",
     "text": [
      "\u001b[92m All public tests passed\n"
     ]
    }
   ],
   "source": [
    "utils.test_df_drop(df)\n",
    "\n"
   ]
  },
  {
   "cell_type": "code",
   "execution_count": 15,
   "metadata": {
    "colab": {},
    "colab_type": "code",
    "id": "xNR1iAlMRPXO"
   },
   "outputs": [
    {
     "name": "stdout",
     "output_type": "stream",
     "text": [
      "9.4\n",
      "10.9\n"
     ]
    }
   ],
   "source": [
    "print(df.alcohol[0])\n",
    "print(df.alcohol[100])\n",
    "\n",
    "# EXPECTED OUTPUT\n",
    "# 9.4\n",
    "# 10.9"
   ]
  },
  {
   "cell_type": "markdown",
   "metadata": {
    "colab_type": "text",
    "id": "cwhuRpnVRTzG"
   },
   "source": [
    "You can plot again to see the new range of data and quality"
   ]
  },
  {
   "cell_type": "code",
   "execution_count": 16,
   "metadata": {
    "colab": {},
    "colab_type": "code",
    "id": "857ygzZiLgGg"
   },
   "outputs": [
    {
     "data": {
      "image/png": "[encoded data removed]",
      "text/plain": [
       "<Figure size 432x288 with 1 Axes>"
      ]
     },
     "metadata": {
      "needs_background": "light"
     },
     "output_type": "display_data"
    }
   ],
   "source": [
    "df['quality'].hist(bins=20);"
   ]
  },
  {
   "cell_type": "markdown",
   "metadata": {
    "colab_type": "text",
    "id": "n3k0vqSsp84t"
   },
   "source": [
    "### Train Test Split (TODO)\n",
    "\n",
    "Next, you can split the datasets into training, test and validation datasets.\n",
    "- The data frame should be split 80:20 into `train` and `test` sets.\n",
    "- The resulting `train` should then be split 80:20 into `train` and `val` sets.\n",
    "- The `train_test_split` parameter `test_size` takes a float value that ranges between 0. and 1, and represents the proportion of the dataset that is allocated to the test set.  The rest of the data is allocated to the training set."
   ]
  },
  {
   "cell_type": "code",
   "execution_count": 17,
   "metadata": {
    "colab": {},
    "colab_type": "code",
    "deletable": false,
    "id": "PAVIf2-fgRVY",
    "nbgrader": {
     "cell_type": "code",
     "checksum": "7f5738f4fb51d65adc9a8acbdf2b9970",
     "grade": false,
     "grade_id": "cell-91946cadf745206b",
     "locked": false,
     "schema_version": 3,
     "solution": true,
     "task": false
    }
   },
   "outputs": [],
   "source": [
    "# split df into 80:20 train and test sets\n",
    "train, test = train_test_split(df, test_size=0.2, random_state = 1)\n",
    "                               \n",
    "# split train into 80:20 train and val sets\n",
    "train, val = train_test_split(train, test_size=0.2, random_state = 1)"
   ]
  },
  {
   "cell_type": "code",
   "execution_count": 18,
   "metadata": {
    "colab": {},
    "colab_type": "code",
    "deletable": false,
    "editable": false,
    "id": "57h9LcEzRWpk",
    "nbgrader": {
     "cell_type": "code",
     "checksum": "42adbe9e66efac7c7a5f8cd73ac92f22",
     "grade": true,
     "grade_id": "cell-64b8b38cd0b965f6",
     "locked": true,
     "points": 1,
     "schema_version": 3,
     "solution": false,
     "task": false
    }
   },
   "outputs": [
    {
     "name": "stdout",
     "output_type": "stream",
     "text": [
      "\u001b[92m All public tests passed\n"
     ]
    }
   ],
   "source": [
    "utils.test_data_sizes(train.size, test.size, val.size)\n",
    "\n"
   ]
  },
  {
   "cell_type": "markdown",
   "metadata": {
    "colab_type": "text",
    "id": "RwTNu4KFqG-K"
   },
   "source": [
    "Here's where you can explore the training stats. You can pop the labels 'is_red' and 'quality' from the data as these will be used as the labels\n"
   ]
  },
  {
   "cell_type": "code",
   "execution_count": 19,
   "metadata": {
    "colab": {},
    "colab_type": "code",
    "id": "Y_afyhhHM6WQ"
   },
   "outputs": [],
   "source": [
    "train_stats = train.describe()\n",
    "train_stats.pop('is_red')\n",
    "train_stats.pop('quality')\n",
    "train_stats = train_stats.transpose()"
   ]
  },
  {
   "cell_type": "markdown",
   "metadata": {
    "colab_type": "text",
    "id": "ahvbYm4fNqSt"
   },
   "source": [
    "Explore the training stats!"
   ]
  },
  {
   "cell_type": "code",
   "execution_count": 20,
   "metadata": {
    "colab": {},
    "colab_type": "code",
    "id": "n_gAtPjZ0otF"
   },
   "outputs": [
    {
     "data": {
      "text/html": [
       "<div>\n",
       "<style scoped>\n",
       "    .dataframe tbody tr th:only-of-type {\n",
       "        vertical-align: middle;\n",
       "    }\n",
       "\n",
       "    .dataframe tbody tr th {\n",
       "        vertical-align: top;\n",
       "    }\n",
       "\n",
       "    .dataframe thead th {\n",
       "        text-align: right;\n",
       "    }\n",
       "</style>\n",
       "<table border=\"1\" class=\"dataframe\">\n",
       "  <thead>\n",
       "    <tr style=\"text-align: right;\">\n",
       "      <th></th>\n",
       "      <th>count</th>\n",
       "      <th>mean</th>\n",
       "      <th>std</th>\n",
       "      <th>min</th>\n",
       "      <th>25%</th>\n",
       "      <th>50%</th>\n",
       "      <th>75%</th>\n",
       "      <th>max</th>\n",
       "    </tr>\n",
       "  </thead>\n",
       "  <tbody>\n",
       "    <tr>\n",
       "      <th>fixed acidity</th>\n",
       "      <td>3155.0</td>\n",
       "      <td>7.221616</td>\n",
       "      <td>1.325297</td>\n",
       "      <td>3.80000</td>\n",
       "      <td>6.40000</td>\n",
       "      <td>7.00000</td>\n",
       "      <td>7.7000</td>\n",
       "      <td>15.60000</td>\n",
       "    </tr>\n",
       "    <tr>\n",
       "      <th>volatile acidity</th>\n",
       "      <td>3155.0</td>\n",
       "      <td>0.338929</td>\n",
       "      <td>0.162476</td>\n",
       "      <td>0.08000</td>\n",
       "      <td>0.23000</td>\n",
       "      <td>0.29000</td>\n",
       "      <td>0.4000</td>\n",
       "      <td>1.24000</td>\n",
       "    </tr>\n",
       "    <tr>\n",
       "      <th>citric acid</th>\n",
       "      <td>3155.0</td>\n",
       "      <td>0.321569</td>\n",
       "      <td>0.147970</td>\n",
       "      <td>0.00000</td>\n",
       "      <td>0.25000</td>\n",
       "      <td>0.31000</td>\n",
       "      <td>0.4000</td>\n",
       "      <td>1.66000</td>\n",
       "    </tr>\n",
       "    <tr>\n",
       "      <th>residual sugar</th>\n",
       "      <td>3155.0</td>\n",
       "      <td>5.155911</td>\n",
       "      <td>4.639632</td>\n",
       "      <td>0.60000</td>\n",
       "      <td>1.80000</td>\n",
       "      <td>2.80000</td>\n",
       "      <td>7.6500</td>\n",
       "      <td>65.80000</td>\n",
       "    </tr>\n",
       "    <tr>\n",
       "      <th>chlorides</th>\n",
       "      <td>3155.0</td>\n",
       "      <td>0.056976</td>\n",
       "      <td>0.036802</td>\n",
       "      <td>0.01200</td>\n",
       "      <td>0.03800</td>\n",
       "      <td>0.04700</td>\n",
       "      <td>0.0660</td>\n",
       "      <td>0.61100</td>\n",
       "    </tr>\n",
       "    <tr>\n",
       "      <th>free sulfur dioxide</th>\n",
       "      <td>3155.0</td>\n",
       "      <td>30.388590</td>\n",
       "      <td>17.236784</td>\n",
       "      <td>1.00000</td>\n",
       "      <td>17.00000</td>\n",
       "      <td>28.00000</td>\n",
       "      <td>41.0000</td>\n",
       "      <td>131.00000</td>\n",
       "    </tr>\n",
       "    <tr>\n",
       "      <th>total sulfur dioxide</th>\n",
       "      <td>3155.0</td>\n",
       "      <td>115.062282</td>\n",
       "      <td>56.706617</td>\n",
       "      <td>6.00000</td>\n",
       "      <td>75.00000</td>\n",
       "      <td>117.00000</td>\n",
       "      <td>156.0000</td>\n",
       "      <td>344.00000</td>\n",
       "    </tr>\n",
       "    <tr>\n",
       "      <th>density</th>\n",
       "      <td>3155.0</td>\n",
       "      <td>0.994633</td>\n",
       "      <td>0.003005</td>\n",
       "      <td>0.98711</td>\n",
       "      <td>0.99232</td>\n",
       "      <td>0.99481</td>\n",
       "      <td>0.9968</td>\n",
       "      <td>1.03898</td>\n",
       "    </tr>\n",
       "    <tr>\n",
       "      <th>pH</th>\n",
       "      <td>3155.0</td>\n",
       "      <td>3.223201</td>\n",
       "      <td>0.161272</td>\n",
       "      <td>2.72000</td>\n",
       "      <td>3.11000</td>\n",
       "      <td>3.21000</td>\n",
       "      <td>3.3300</td>\n",
       "      <td>4.01000</td>\n",
       "    </tr>\n",
       "    <tr>\n",
       "      <th>sulphates</th>\n",
       "      <td>3155.0</td>\n",
       "      <td>0.534051</td>\n",
       "      <td>0.149149</td>\n",
       "      <td>0.22000</td>\n",
       "      <td>0.43000</td>\n",
       "      <td>0.51000</td>\n",
       "      <td>0.6000</td>\n",
       "      <td>1.95000</td>\n",
       "    </tr>\n",
       "    <tr>\n",
       "      <th>alcohol</th>\n",
       "      <td>3155.0</td>\n",
       "      <td>10.504466</td>\n",
       "      <td>1.154654</td>\n",
       "      <td>8.50000</td>\n",
       "      <td>9.50000</td>\n",
       "      <td>10.30000</td>\n",
       "      <td>11.3000</td>\n",
       "      <td>14.00000</td>\n",
       "    </tr>\n",
       "  </tbody>\n",
       "</table>\n",
       "</div>"
      ],
      "text/plain": [
       "                       count        mean        std      min       25%  \\\n",
       "fixed acidity         3155.0    7.221616   1.325297  3.80000   6.40000   \n",
       "volatile acidity      3155.0    0.338929   0.162476  0.08000   0.23000   \n",
       "citric acid           3155.0    0.321569   0.147970  0.00000   0.25000   \n",
       "residual sugar        3155.0    5.155911   4.639632  0.60000   1.80000   \n",
       "chlorides             3155.0    0.056976   0.036802  0.01200   0.03800   \n",
       "free sulfur dioxide   3155.0   30.388590  17.236784  1.00000  17.00000   \n",
       "total sulfur dioxide  3155.0  115.062282  56.706617  6.00000  75.00000   \n",
       "density               3155.0    0.994633   0.003005  0.98711   0.99232   \n",
       "pH                    3155.0    3.223201   0.161272  2.72000   3.11000   \n",
       "sulphates             3155.0    0.534051   0.149149  0.22000   0.43000   \n",
       "alcohol               3155.0   10.504466   1.154654  8.50000   9.50000   \n",
       "\n",
       "                            50%       75%        max  \n",
       "fixed acidity           7.00000    7.7000   15.60000  \n",
       "volatile acidity        0.29000    0.4000    1.24000  \n",
       "citric acid             0.31000    0.4000    1.66000  \n",
       "residual sugar          2.80000    7.6500   65.80000  \n",
       "chlorides               0.04700    0.0660    0.61100  \n",
       "free sulfur dioxide    28.00000   41.0000  131.00000  \n",
       "total sulfur dioxide  117.00000  156.0000  344.00000  \n",
       "density                 0.99481    0.9968    1.03898  \n",
       "pH                      3.21000    3.3300    4.01000  \n",
       "sulphates               0.51000    0.6000    1.95000  \n",
       "alcohol                10.30000   11.3000   14.00000  "
      ]
     },
     "execution_count": 20,
     "metadata": {},
     "output_type": "execute_result"
    }
   ],
   "source": [
    "train_stats"
   ]
  },
  {
   "cell_type": "markdown",
   "metadata": {
    "colab_type": "text",
    "id": "bGPvt9jir_HC"
   },
   "source": [
    "### Get the labels (TODO)\n",
    "\n",
    "The features and labels are currently in the same dataframe.\n",
    "- You will want to store the label columns `is_red` and `quality` separately from the feature columns.  \n",
    "- The following function, `format_output`, gets these two columns from the dataframe (it's given to you).\n",
    "- `format_output` also formats the data into numpy arrays. \n",
    "- Please use the `format_output` and apply it to the `train`, `val` and `test` sets to get dataframes for the labels."
   ]
  },
  {
   "cell_type": "code",
   "execution_count": 21,
   "metadata": {
    "colab": {},
    "colab_type": "code",
    "id": "Z_fs14XQqZVP"
   },
   "outputs": [],
   "source": [
    "def format_output(data):\n",
    "    is_red = data.pop('is_red')\n",
    "    is_red = np.array(is_red)\n",
    "    quality = data.pop('quality')\n",
    "    quality = np.array(quality)\n",
    "    return (quality, is_red)"
   ]
  },
  {
   "cell_type": "code",
   "execution_count": 22,
   "metadata": {
    "colab": {},
    "colab_type": "code",
    "deletable": false,
    "id": "8L3ZZe1fQicm",
    "nbgrader": {
     "cell_type": "code",
     "checksum": "7a86809e54895a816434c48dc903f55d",
     "grade": false,
     "grade_id": "cell-5c30fa2c2a354b0f",
     "locked": false,
     "schema_version": 3,
     "solution": true,
     "task": false
    }
   },
   "outputs": [],
   "source": [
    "# Please uncomment all lines in this cell and replace those marked with `# YOUR CODE HERE`.\n",
    "# You can select all lines in this code cell with Ctrl+A (Windows/Linux) or Cmd+A (Mac), then press Ctrl+/ (Windows/Linux) or Cmd+/ (Mac) to uncomment.\n",
    "\n",
    "\n",
    "\n",
    "# format the output of the train set\n",
    "train_Y = format_output(train)\n",
    "\n",
    "# format the output of the val set\n",
    "val_Y = format_output(val)\n",
    "    \n",
    "# format the output of the test set\n",
    "test_Y = format_output(test)"
   ]
  },
  {
   "cell_type": "code",
   "execution_count": 23,
   "metadata": {
    "deletable": false,
    "editable": false,
    "nbgrader": {
     "cell_type": "code",
     "checksum": "359cabbafaed14ec9bbc1e57a7b6f32c",
     "grade": true,
     "grade_id": "cell-4977d8befb80f56b",
     "locked": true,
     "points": 1,
     "schema_version": 3,
     "solution": false,
     "task": false
    }
   },
   "outputs": [
    {
     "name": "stdout",
     "output_type": "stream",
     "text": [
      "\u001b[92m All public tests passed\n"
     ]
    }
   ],
   "source": [
    "utils.test_format_output(df, train_Y, val_Y, test_Y)"
   ]
  },
  {
   "cell_type": "markdown",
   "metadata": {},
   "source": [
    "Notice that after you get the labels, the `train`, `val` and `test` dataframes no longer contain the label columns, and contain just the feature columns.\n",
    "- This is because you used `.pop` in the `format_output` function."
   ]
  },
  {
   "cell_type": "code",
   "execution_count": 25,
   "metadata": {},
   "outputs": [
    {
     "data": {
      "text/html": [
       "<div>\n",
       "<style scoped>\n",
       "    .dataframe tbody tr th:only-of-type {\n",
       "        vertical-align: middle;\n",
       "    }\n",
       "\n",
       "    .dataframe tbody tr th {\n",
       "        vertical-align: top;\n",
       "    }\n",
       "\n",
       "    .dataframe thead th {\n",
       "        text-align: right;\n",
       "    }\n",
       "</style>\n",
       "<table border=\"1\" class=\"dataframe\">\n",
       "  <thead>\n",
       "    <tr style=\"text-align: right;\">\n",
       "      <th></th>\n",
       "      <th>fixed acidity</th>\n",
       "      <th>volatile acidity</th>\n",
       "      <th>citric acid</th>\n",
       "      <th>residual sugar</th>\n",
       "      <th>chlorides</th>\n",
       "      <th>free sulfur dioxide</th>\n",
       "      <th>total sulfur dioxide</th>\n",
       "      <th>density</th>\n",
       "      <th>pH</th>\n",
       "      <th>sulphates</th>\n",
       "      <th>alcohol</th>\n",
       "    </tr>\n",
       "  </thead>\n",
       "  <tbody>\n",
       "    <tr>\n",
       "      <th>225</th>\n",
       "      <td>7.5</td>\n",
       "      <td>0.65</td>\n",
       "      <td>0.18</td>\n",
       "      <td>7.0</td>\n",
       "      <td>0.088</td>\n",
       "      <td>27.0</td>\n",
       "      <td>94.0</td>\n",
       "      <td>0.99915</td>\n",
       "      <td>3.38</td>\n",
       "      <td>0.77</td>\n",
       "      <td>9.4</td>\n",
       "    </tr>\n",
       "    <tr>\n",
       "      <th>3557</th>\n",
       "      <td>6.3</td>\n",
       "      <td>0.27</td>\n",
       "      <td>0.29</td>\n",
       "      <td>12.2</td>\n",
       "      <td>0.044</td>\n",
       "      <td>59.0</td>\n",
       "      <td>196.0</td>\n",
       "      <td>0.99782</td>\n",
       "      <td>3.14</td>\n",
       "      <td>0.40</td>\n",
       "      <td>8.8</td>\n",
       "    </tr>\n",
       "    <tr>\n",
       "      <th>3825</th>\n",
       "      <td>8.8</td>\n",
       "      <td>0.27</td>\n",
       "      <td>0.25</td>\n",
       "      <td>5.0</td>\n",
       "      <td>0.024</td>\n",
       "      <td>52.0</td>\n",
       "      <td>99.0</td>\n",
       "      <td>0.99250</td>\n",
       "      <td>2.87</td>\n",
       "      <td>0.49</td>\n",
       "      <td>11.4</td>\n",
       "    </tr>\n",
       "    <tr>\n",
       "      <th>1740</th>\n",
       "      <td>6.4</td>\n",
       "      <td>0.45</td>\n",
       "      <td>0.07</td>\n",
       "      <td>1.1</td>\n",
       "      <td>0.030</td>\n",
       "      <td>10.0</td>\n",
       "      <td>131.0</td>\n",
       "      <td>0.99050</td>\n",
       "      <td>2.97</td>\n",
       "      <td>0.28</td>\n",
       "      <td>10.8</td>\n",
       "    </tr>\n",
       "    <tr>\n",
       "      <th>1221</th>\n",
       "      <td>7.2</td>\n",
       "      <td>0.53</td>\n",
       "      <td>0.13</td>\n",
       "      <td>2.0</td>\n",
       "      <td>0.058</td>\n",
       "      <td>18.0</td>\n",
       "      <td>22.0</td>\n",
       "      <td>0.99573</td>\n",
       "      <td>3.21</td>\n",
       "      <td>0.68</td>\n",
       "      <td>9.9</td>\n",
       "    </tr>\n",
       "  </tbody>\n",
       "</table>\n",
       "</div>"
      ],
      "text/plain": [
       "      fixed acidity  volatile acidity  citric acid  residual sugar  chlorides  \\\n",
       "225             7.5              0.65         0.18             7.0      0.088   \n",
       "3557            6.3              0.27         0.29            12.2      0.044   \n",
       "3825            8.8              0.27         0.25             5.0      0.024   \n",
       "1740            6.4              0.45         0.07             1.1      0.030   \n",
       "1221            7.2              0.53         0.13             2.0      0.058   \n",
       "\n",
       "      free sulfur dioxide  total sulfur dioxide  density    pH  sulphates  \\\n",
       "225                  27.0                  94.0  0.99915  3.38       0.77   \n",
       "3557                 59.0                 196.0  0.99782  3.14       0.40   \n",
       "3825                 52.0                  99.0  0.99250  2.87       0.49   \n",
       "1740                 10.0                 131.0  0.99050  2.97       0.28   \n",
       "1221                 18.0                  22.0  0.99573  3.21       0.68   \n",
       "\n",
       "      alcohol  \n",
       "225       9.4  \n",
       "3557      8.8  \n",
       "3825     11.4  \n",
       "1740     10.8  \n",
       "1221      9.9  "
      ]
     },
     "execution_count": 25,
     "metadata": {},
     "output_type": "execute_result"
    }
   ],
   "source": [
    "train.head()"
   ]
  },
  {
   "cell_type": "markdown",
   "metadata": {
    "colab_type": "text",
    "id": "hEdbrruAsN1D"
   },
   "source": [
    "### Normalize the data (TODO)\n",
    "\n",
    "Next, you can normalize the data, x, using the formula:\n",
    "$$x_{norm} = \\frac{x - \\mu}{\\sigma}$$\n",
    "- The `norm` function is defined for you.\n",
    "- Please apply the `norm` function to normalize the dataframes that contains the feature columns of `train`, `val` and `test` sets."
   ]
  },
  {
   "cell_type": "code",
   "execution_count": 26,
   "metadata": {
    "colab": {},
    "colab_type": "code",
    "id": "WWiZPAHCLjUs"
   },
   "outputs": [],
   "source": [
    "def norm(x):\n",
    "    return (x - train_stats['mean']) / train_stats['std']"
   ]
  },
  {
   "cell_type": "code",
   "execution_count": 27,
   "metadata": {
    "colab": {},
    "colab_type": "code",
    "deletable": false,
    "id": "JEaOi2I2Lk69",
    "nbgrader": {
     "cell_type": "code",
     "checksum": "6bc0cdcb563d192f271067aa3373ff32",
     "grade": false,
     "grade_id": "cell-d8416d975c371095",
     "locked": false,
     "schema_version": 3,
     "solution": true,
     "task": false
    }
   },
   "outputs": [],
   "source": [
    "## Please uncomment all lines in this cell and replace those marked with `# YOUR CODE HERE`.\n",
    "## You can select all lines in this code cell with Ctrl+A (Windows/Linux) or Cmd+A (Mac), then press Ctrl+/ (Windows/Linux) or Cmd+/ (Mac) to uncomment.\n",
    "\n",
    "\n",
    "\n",
    "# normalize the train set\n",
    "norm_train_X = norm(train)\n",
    "    \n",
    "# normalize the val set\n",
    "norm_val_X = norm(val)\n",
    "    \n",
    "# normalize the test set\n",
    "norm_test_X = norm(test)"
   ]
  },
  {
   "cell_type": "code",
   "execution_count": 28,
   "metadata": {
    "deletable": false,
    "editable": false,
    "nbgrader": {
     "cell_type": "code",
     "checksum": "4f567db45bf40191601780379cc100b8",
     "grade": true,
     "grade_id": "cell-97fad979d157529b",
     "locked": true,
     "points": 1,
     "schema_version": 3,
     "solution": false,
     "task": false
    }
   },
   "outputs": [
    {
     "name": "stdout",
     "output_type": "stream",
     "text": [
      "\u001b[92m All public tests passed\n"
     ]
    }
   ],
   "source": [
    "utils.test_norm(norm_train_X, norm_val_X, norm_test_X, train, val, test)\n"
   ]
  },
  {
   "cell_type": "markdown",
   "metadata": {
    "colab_type": "text",
    "id": "hzykDwQhsaPO"
   },
   "source": [
    "## Define the Model (TODO)\n",
    "\n",
    "Define the model using the functional API. The base model will be 2 `Dense` layers of 128 neurons each, and have the `'relu'` activation.\n",
    "- Check out the documentation for [tf.keras.layers.Dense](https://www.tensorflow.org/api_docs/python/tf/keras/layers/Dense)"
   ]
  },
  {
   "cell_type": "code",
   "execution_count": 31,
   "metadata": {
    "colab": {},
    "colab_type": "code",
    "deletable": false,
    "id": "Rhcns3oTFkM6",
    "nbgrader": {
     "cell_type": "code",
     "checksum": "74b031247e569526552bf13a034a1c07",
     "grade": false,
     "grade_id": "cell-73fceedad1fe351c",
     "locked": false,
     "schema_version": 3,
     "solution": true,
     "task": false
    }
   },
   "outputs": [],
   "source": [
    "## Please uncomment all lines in this cell and replace those marked with `# YOUR CODE HERE`.\n",
    "## You can select all lines in this code cell with Ctrl+A (Windows/Linux) or Cmd+A (Mac), then press Ctrl+/ (Windows/Linux) or Cmd+/ (Mac) to uncomment.\n",
    "\n",
    "\n",
    "\n",
    "def base_model(inputs):\n",
    "    \n",
    "    # connect a Dense layer with 128 neurons and a relu activation\n",
    "    x = tf.keras.layers.Dense(units=128, activation='relu')(inputs)\n",
    "    \n",
    "    # connect another Dense layer with 128 neurons and a relu activation\n",
    "    x = tf.keras.layers.Dense(units=128, activation='relu')(x)\n",
    "    return x\n",
    "  "
   ]
  },
  {
   "cell_type": "code",
   "execution_count": 32,
   "metadata": {
    "deletable": false,
    "editable": false,
    "nbgrader": {
     "cell_type": "code",
     "checksum": "9255924b3def80f679616e4c851a43e1",
     "grade": true,
     "grade_id": "cell-54f742a133353d75",
     "locked": true,
     "points": 1,
     "schema_version": 3,
     "solution": false,
     "task": false
    }
   },
   "outputs": [
    {
     "name": "stdout",
     "output_type": "stream",
     "text": [
      "\u001b[92m All public tests passed\n"
     ]
    }
   ],
   "source": [
    "utils.test_base_model(base_model)"
   ]
  },
  {
   "cell_type": "markdown",
   "metadata": {
    "colab_type": "text",
    "id": "xem_fcVws6Kz"
   },
   "source": [
    "# Define output layers of the model (TODO)\n",
    "\n",
    "You will add output layers to the base model. \n",
    "- The model will need two outputs.\n",
    "\n",
    "One output layer will predict wine quality, which is a numeric value.\n",
    "- Define a `Dense` layer with 1 neuron.\n",
    "- Since this is a regression output, the activation can be left as its default value `None`.\n",
    "\n",
    "The other output layer will predict the wine type, which is either red `1` or not red `0` (white).\n",
    "- Define a `Dense` layer with 1 neuron.\n",
    "- Since there are two possible categories, you can use a sigmoid activation for binary classification.\n",
    "\n",
    "Define the `Model`\n",
    "- Define the `Model` object, and set the following parameters:\n",
    "  - `inputs`: pass in the inputs to the model as a list.\n",
    "  - `outputs`: pass in a list of the outputs that you just defined: wine quality, then wine type.\n",
    "  - **Note**: please list the wine quality before wine type in the outputs, as this will affect the calculated loss if you choose the other order."
   ]
  },
  {
   "cell_type": "code",
   "execution_count": 33,
   "metadata": {
    "colab": {},
    "colab_type": "code",
    "deletable": false,
    "id": "n5UGF8PMVLPt",
    "nbgrader": {
     "cell_type": "code",
     "checksum": "76d35b90d20cdcbb22986cd8211057de",
     "grade": false,
     "grade_id": "cell-19e285f482f021fb",
     "locked": false,
     "schema_version": 3,
     "solution": true,
     "task": false
    }
   },
   "outputs": [],
   "source": [
    "## Please uncomment all lines in this cell and replace those marked with `# YOUR CODE HERE`.\n",
    "## You can select all lines in this code cell with Ctrl+A (Windows/Linux) or Cmd+A (Mac), then press Ctrl+/ (Windows/Linux) or Cmd+/ (Mac) to uncomment.\n",
    "\n",
    "\n",
    "\n",
    "def final_model(inputs):\n",
    "    \n",
    "    # get the base model\n",
    "    x = base_model(inputs)\n",
    "\n",
    "    # connect the output Dense layer for regression\n",
    "    wine_quality = Dense(units='1', name='wine_quality')(x)\n",
    "\n",
    "    # connect the output Dense layer for classification. this will use a sigmoid activation.\n",
    "    wine_type = Dense(units='1', activation=\"sigmoid\", name='wine_type')(x)\n",
    "\n",
    "    # define the model using the input and output layers\n",
    "    model = Model(inputs=inputs, outputs=[wine_quality, wine_type])\n",
    "\n",
    "    return model"
   ]
  },
  {
   "cell_type": "code",
   "execution_count": 34,
   "metadata": {
    "deletable": false,
    "editable": false,
    "nbgrader": {
     "cell_type": "code",
     "checksum": "89cbf89d8ab5e2e59ecf7f63f517520a",
     "grade": true,
     "grade_id": "cell-40d050f855c817d1",
     "locked": true,
     "points": 1,
     "schema_version": 3,
     "solution": false,
     "task": false
    }
   },
   "outputs": [
    {
     "name": "stdout",
     "output_type": "stream",
     "text": [
      "\u001b[92m All public tests passed\n"
     ]
    }
   ],
   "source": [
    "utils.test_final_model(final_model)"
   ]
  },
  {
   "cell_type": "markdown",
   "metadata": {
    "colab_type": "text",
    "id": "5R0BMTsltZyu"
   },
   "source": [
    "## Compiling the Model\n",
    "\n",
    "Next, compile the model. When setting the loss parameter of `model.compile`, you're setting the loss for each of the two outputs (wine quality and wine type).\n",
    "\n",
    "To set more than one loss, use a dictionary of key-value pairs.\n",
    "- You can look at the docs for the losses [here](https://www.tensorflow.org/api_docs/python/tf/keras/losses#functions).\n",
    "    - **Note**: For the desired spelling, please look at the \"Functions\" section of the documentation and not the \"classes\" section on that same page.\n",
    "- wine_type: Since you will be performing binary classification on wine type, you should use the binary crossentropy loss function for it.  Please pass this in as a string.  \n",
    "  - **Hint**, this should be all lowercase.  In the documentation, you'll see this under the \"Functions\" section, not the \"Classes\" section.\n",
    "- wine_quality: since this is a regression output, use the mean squared error.  Please pass it in as a string, all lowercase.\n",
    "  - **Hint**: You may notice that there are two aliases for mean squared error.  Please use the shorter name.\n",
    "\n",
    "\n",
    "You will also set the metric for each of the two outputs.  Again, to set metrics for two or more outputs, use a dictionary with key value pairs.\n",
    "- The metrics documentation is linked [here](https://www.tensorflow.org/api_docs/python/tf/keras/metrics).\n",
    "- For the wine type, please set it to accuracy as a string, all lowercase.\n",
    "- For wine quality, please use the root mean squared error.  Instead of a string, you'll set it to an instance of the class [RootMeanSquaredError](https://www.tensorflow.org/api_docs/python/tf/keras/metrics/RootMeanSquaredError), which belongs to the tf.keras.metrics module.\n",
    "\n",
    "**Note**: If you see the error message \n",
    ">Exception: wine quality loss function is incorrect.\n",
    "\n",
    "- Please also check your other losses and metrics, as the error may be caused by the other three key-value pairs and not the wine quality loss."
   ]
  },
  {
   "cell_type": "code",
   "execution_count": 37,
   "metadata": {
    "colab": {},
    "colab_type": "code",
    "deletable": false,
    "id": "LK11duUbUjmh",
    "nbgrader": {
     "cell_type": "code",
     "checksum": "22f45067ca69eb2ccadb43874dbcc27b",
     "grade": false,
     "grade_id": "cell-81afdc4dcca51d5e",
     "locked": false,
     "schema_version": 3,
     "solution": true,
     "task": false
    }
   },
   "outputs": [],
   "source": [
    "## Please uncomment all lines in this cell and replace those marked with `# YOUR CODE HERE`.\n",
    "## You can select all lines in this code cell with Ctrl+A (Windows/Linux) or Cmd+A (Mac), then press Ctrl+/ (Windows/Linux) or Cmd+/ (Mac) to uncomment.\n",
    "\n",
    "\n",
    "\n",
    "inputs = tf.keras.layers.Input(shape=(11,))\n",
    "rms = tf.keras.optimizers.RMSprop(lr=0.0001)\n",
    "model = final_model(inputs)\n",
    "\n",
    "model.compile(optimizer=rms, \n",
    "              loss = {'wine_type' : \"binary_crossentropy\",\n",
    "                      'wine_quality' : \"mse\"\n",
    "                     },\n",
    "              metrics = {'wine_type' : \"accuracy\",\n",
    "                         'wine_quality': tf.keras.metrics.RootMeanSquaredError()\n",
    "                       }\n",
    "             )\n"
   ]
  },
  {
   "cell_type": "code",
   "execution_count": 38,
   "metadata": {
    "deletable": false,
    "editable": false,
    "nbgrader": {
     "cell_type": "code",
     "checksum": "88e02238ea5e456ff65e835cc8158054",
     "grade": true,
     "grade_id": "cell-2eeeba02391c4632",
     "locked": true,
     "points": 1,
     "schema_version": 3,
     "solution": false,
     "task": false
    }
   },
   "outputs": [
    {
     "name": "stdout",
     "output_type": "stream",
     "text": [
      "\u001b[92m All public tests passed\n"
     ]
    }
   ],
   "source": [
    "utils.test_model_compile(model)"
   ]
  },
  {
   "cell_type": "markdown",
   "metadata": {
    "colab_type": "text",
    "id": "90MpAMpWuKm-"
   },
   "source": [
    "## Training the Model\n",
    "\n",
    "Fit the model to the training inputs and outputs. \n",
    "- Check the documentation for [model.fit](https://www.tensorflow.org/api_docs/python/tf/keras/Model#fit).\n",
    "- Remember to use the normalized training set as inputs. \n",
    "- For the validation data, please use the normalized validation set."
   ]
  },
  {
   "cell_type": "code",
   "execution_count": 39,
   "metadata": {
    "colab": {},
    "colab_type": "code",
    "deletable": false,
    "id": "_eiZkle4XwiY",
    "nbgrader": {
     "cell_type": "code",
     "checksum": "2ca7664be03bfd6fd3651ae44d17b793",
     "grade": false,
     "grade_id": "cell-0bb56262896f6680",
     "locked": false,
     "schema_version": 3,
     "solution": true,
     "task": false
    }
   },
   "outputs": [
    {
     "name": "stdout",
     "output_type": "stream",
     "text": [
      "Train on 3155 samples, validate on 789 samples\n",
      "Epoch 1/180\n",
      "3155/3155 [==============================] - 1s 350us/sample - loss: 52.0711 - wine_quality_loss: 50.2615 - wine_type_loss: 1.6064 - wine_quality_root_mean_squared_error: 7.1034 - wine_type_accuracy: 0.4843 - val_loss: 2.8370 - val_wine_quality_loss: 2.3620 - val_wine_type_loss: 0.4681 - val_wine_quality_root_mean_squared_error: 1.5389 - val_wine_type_accuracy: 0.7351\n",
      "Epoch 2/180\n",
      "3155/3155 [==============================] - 0s 101us/sample - loss: 1.8304 - wine_quality_loss: 1.4168 - wine_type_loss: 0.4111 - wine_quality_root_mean_squared_error: 1.1916 - wine_type_accuracy: 0.7597 - val_loss: 1.0619 - val_wine_quality_loss: 0.6883 - val_wine_type_loss: 0.3717 - val_wine_quality_root_mean_squared_error: 0.8309 - val_wine_type_accuracy: 0.8124\n",
      "Epoch 3/180\n",
      "3155/3155 [==============================] - 0s 115us/sample - loss: 1.0290 - wine_quality_loss: 0.7130 - wine_type_loss: 0.3174 - wine_quality_root_mean_squared_error: 0.8436 - wine_type_accuracy: 0.8742 - val_loss: 1.0589 - val_wine_quality_loss: 0.7693 - val_wine_type_loss: 0.2878 - val_wine_quality_root_mean_squared_error: 0.8785 - val_wine_type_accuracy: 0.8973\n",
      "Epoch 4/180\n",
      "3155/3155 [==============================] - 0s 98us/sample - loss: 0.8382 - wine_quality_loss: 0.5751 - wine_type_loss: 0.2633 - wine_quality_root_mean_squared_error: 0.7585 - wine_type_accuracy: 0.9122 - val_loss: 0.8608 - val_wine_quality_loss: 0.6135 - val_wine_type_loss: 0.2492 - val_wine_quality_root_mean_squared_error: 0.7826 - val_wine_type_accuracy: 0.9113\n",
      "Epoch 5/180\n",
      "3155/3155 [==============================] - 0s 98us/sample - loss: 0.7893 - wine_quality_loss: 0.5540 - wine_type_loss: 0.2351 - wine_quality_root_mean_squared_error: 0.7447 - wine_type_accuracy: 0.9217 - val_loss: 0.9641 - val_wine_quality_loss: 0.7394 - val_wine_type_loss: 0.2276 - val_wine_quality_root_mean_squared_error: 0.8587 - val_wine_type_accuracy: 0.9189\n",
      "Epoch 6/180\n",
      "3155/3155 [==============================] - 0s 96us/sample - loss: 0.7616 - wine_quality_loss: 0.5408 - wine_type_loss: 0.2190 - wine_quality_root_mean_squared_error: 0.7362 - wine_type_accuracy: 0.9246 - val_loss: 0.6582 - val_wine_quality_loss: 0.4437 - val_wine_type_loss: 0.2153 - val_wine_quality_root_mean_squared_error: 0.6661 - val_wine_type_accuracy: 0.9189\n",
      "Epoch 7/180\n",
      "3155/3155 [==============================] - 0s 93us/sample - loss: 0.7530 - wine_quality_loss: 0.5420 - wine_type_loss: 0.2103 - wine_quality_root_mean_squared_error: 0.7367 - wine_type_accuracy: 0.9281 - val_loss: 0.6838 - val_wine_quality_loss: 0.4734 - val_wine_type_loss: 0.2095 - val_wine_quality_root_mean_squared_error: 0.6893 - val_wine_type_accuracy: 0.9202\n",
      "Epoch 8/180\n",
      "3155/3155 [==============================] - 0s 97us/sample - loss: 0.7353 - wine_quality_loss: 0.5304 - wine_type_loss: 0.2041 - wine_quality_root_mean_squared_error: 0.7286 - wine_type_accuracy: 0.9287 - val_loss: 0.6030 - val_wine_quality_loss: 0.4025 - val_wine_type_loss: 0.2010 - val_wine_quality_root_mean_squared_error: 0.6347 - val_wine_type_accuracy: 0.9290\n",
      "Epoch 9/180\n",
      "3155/3155 [==============================] - 0s 93us/sample - loss: 0.7195 - wine_quality_loss: 0.5199 - wine_type_loss: 0.1996 - wine_quality_root_mean_squared_error: 0.7208 - wine_type_accuracy: 0.9312 - val_loss: 0.9074 - val_wine_quality_loss: 0.7139 - val_wine_type_loss: 0.1973 - val_wine_quality_root_mean_squared_error: 0.8433 - val_wine_type_accuracy: 0.9290\n",
      "Epoch 10/180\n",
      "3155/3155 [==============================] - 0s 97us/sample - loss: 0.7219 - wine_quality_loss: 0.5241 - wine_type_loss: 0.1981 - wine_quality_root_mean_squared_error: 0.7241 - wine_type_accuracy: 0.9328 - val_loss: 0.6476 - val_wine_quality_loss: 0.4487 - val_wine_type_loss: 0.1980 - val_wine_quality_root_mean_squared_error: 0.6711 - val_wine_type_accuracy: 0.9265\n",
      "Epoch 11/180\n",
      "3155/3155 [==============================] - 0s 99us/sample - loss: 0.7167 - wine_quality_loss: 0.5205 - wine_type_loss: 0.1958 - wine_quality_root_mean_squared_error: 0.7219 - wine_type_accuracy: 0.9331 - val_loss: 0.6986 - val_wine_quality_loss: 0.5097 - val_wine_type_loss: 0.1906 - val_wine_quality_root_mean_squared_error: 0.7134 - val_wine_type_accuracy: 0.9265\n",
      "Epoch 12/180\n",
      "3155/3155 [==============================] - 0s 97us/sample - loss: 0.6738 - wine_quality_loss: 0.4783 - wine_type_loss: 0.1949 - wine_quality_root_mean_squared_error: 0.6923 - wine_type_accuracy: 0.9366 - val_loss: 0.6374 - val_wine_quality_loss: 0.4470 - val_wine_type_loss: 0.1894 - val_wine_quality_root_mean_squared_error: 0.6700 - val_wine_type_accuracy: 0.9278\n",
      "Epoch 13/180\n",
      "3155/3155 [==============================] - 0s 95us/sample - loss: 0.7003 - wine_quality_loss: 0.5069 - wine_type_loss: 0.1926 - wine_quality_root_mean_squared_error: 0.7122 - wine_type_accuracy: 0.9328 - val_loss: 0.7601 - val_wine_quality_loss: 0.5755 - val_wine_type_loss: 0.1873 - val_wine_quality_root_mean_squared_error: 0.7574 - val_wine_type_accuracy: 0.9278\n",
      "Epoch 14/180\n",
      "3155/3155 [==============================] - 0s 113us/sample - loss: 0.6996 - wine_quality_loss: 0.5089 - wine_type_loss: 0.1928 - wine_quality_root_mean_squared_error: 0.7127 - wine_type_accuracy: 0.9347 - val_loss: 1.1659 - val_wine_quality_loss: 0.9841 - val_wine_type_loss: 0.1871 - val_wine_quality_root_mean_squared_error: 0.9898 - val_wine_type_accuracy: 0.9278\n",
      "Epoch 15/180\n",
      "3155/3155 [==============================] - 0s 96us/sample - loss: 0.6827 - wine_quality_loss: 0.4912 - wine_type_loss: 0.1907 - wine_quality_root_mean_squared_error: 0.7016 - wine_type_accuracy: 0.9338 - val_loss: 0.5682 - val_wine_quality_loss: 0.3811 - val_wine_type_loss: 0.1870 - val_wine_quality_root_mean_squared_error: 0.6180 - val_wine_type_accuracy: 0.9316\n",
      "Epoch 16/180\n",
      "3155/3155 [==============================] - 0s 97us/sample - loss: 0.6722 - wine_quality_loss: 0.4817 - wine_type_loss: 0.1895 - wine_quality_root_mean_squared_error: 0.6948 - wine_type_accuracy: 0.9353 - val_loss: 0.5834 - val_wine_quality_loss: 0.3942 - val_wine_type_loss: 0.1886 - val_wine_quality_root_mean_squared_error: 0.6289 - val_wine_type_accuracy: 0.9290\n",
      "Epoch 17/180\n",
      "3155/3155 [==============================] - 0s 98us/sample - loss: 0.6927 - wine_quality_loss: 0.5034 - wine_type_loss: 0.1884 - wine_quality_root_mean_squared_error: 0.7101 - wine_type_accuracy: 0.9353 - val_loss: 0.5686 - val_wine_quality_loss: 0.3848 - val_wine_type_loss: 0.1835 - val_wine_quality_root_mean_squared_error: 0.6211 - val_wine_type_accuracy: 0.9290\n",
      "Epoch 18/180\n",
      "3155/3155 [==============================] - 0s 95us/sample - loss: 0.6690 - wine_quality_loss: 0.4812 - wine_type_loss: 0.1874 - wine_quality_root_mean_squared_error: 0.6937 - wine_type_accuracy: 0.9357 - val_loss: 0.5935 - val_wine_quality_loss: 0.4082 - val_wine_type_loss: 0.1861 - val_wine_quality_root_mean_squared_error: 0.6388 - val_wine_type_accuracy: 0.9303\n",
      "Epoch 19/180\n",
      "3155/3155 [==============================] - 0s 95us/sample - loss: 0.6768 - wine_quality_loss: 0.4926 - wine_type_loss: 0.1865 - wine_quality_root_mean_squared_error: 0.7002 - wine_type_accuracy: 0.9363 - val_loss: 0.7235 - val_wine_quality_loss: 0.5433 - val_wine_type_loss: 0.1788 - val_wine_quality_root_mean_squared_error: 0.7386 - val_wine_type_accuracy: 0.9303\n",
      "Epoch 20/180\n",
      "3155/3155 [==============================] - 0s 98us/sample - loss: 0.6856 - wine_quality_loss: 0.5006 - wine_type_loss: 0.1846 - wine_quality_root_mean_squared_error: 0.7078 - wine_type_accuracy: 0.9369 - val_loss: 0.5760 - val_wine_quality_loss: 0.3898 - val_wine_type_loss: 0.1857 - val_wine_quality_root_mean_squared_error: 0.6253 - val_wine_type_accuracy: 0.9303\n",
      "Epoch 21/180\n",
      "3155/3155 [==============================] - 0s 97us/sample - loss: 0.6616 - wine_quality_loss: 0.4772 - wine_type_loss: 0.1830 - wine_quality_root_mean_squared_error: 0.6914 - wine_type_accuracy: 0.9353 - val_loss: 0.5544 - val_wine_quality_loss: 0.3778 - val_wine_type_loss: 0.1765 - val_wine_quality_root_mean_squared_error: 0.6153 - val_wine_type_accuracy: 0.9290\n",
      "Epoch 22/180\n",
      "3155/3155 [==============================] - 0s 112us/sample - loss: 0.6641 - wine_quality_loss: 0.4797 - wine_type_loss: 0.1837 - wine_quality_root_mean_squared_error: 0.6934 - wine_type_accuracy: 0.9357 - val_loss: 0.5591 - val_wine_quality_loss: 0.3834 - val_wine_type_loss: 0.1761 - val_wine_quality_root_mean_squared_error: 0.6195 - val_wine_type_accuracy: 0.9341\n",
      "Epoch 23/180\n",
      "3155/3155 [==============================] - 0s 99us/sample - loss: 0.6545 - wine_quality_loss: 0.4719 - wine_type_loss: 0.1827 - wine_quality_root_mean_squared_error: 0.6872 - wine_type_accuracy: 0.9357 - val_loss: 0.5588 - val_wine_quality_loss: 0.3847 - val_wine_type_loss: 0.1742 - val_wine_quality_root_mean_squared_error: 0.6207 - val_wine_type_accuracy: 0.9290\n",
      "Epoch 24/180\n",
      "3155/3155 [==============================] - 0s 98us/sample - loss: 0.6602 - wine_quality_loss: 0.4798 - wine_type_loss: 0.1812 - wine_quality_root_mean_squared_error: 0.6925 - wine_type_accuracy: 0.9353 - val_loss: 0.7692 - val_wine_quality_loss: 0.5988 - val_wine_type_loss: 0.1733 - val_wine_quality_root_mean_squared_error: 0.7725 - val_wine_type_accuracy: 0.9341\n",
      "Epoch 25/180\n",
      "3155/3155 [==============================] - 0s 97us/sample - loss: 0.6661 - wine_quality_loss: 0.4867 - wine_type_loss: 0.1803 - wine_quality_root_mean_squared_error: 0.6969 - wine_type_accuracy: 0.9376 - val_loss: 0.6094 - val_wine_quality_loss: 0.4340 - val_wine_type_loss: 0.1744 - val_wine_quality_root_mean_squared_error: 0.6601 - val_wine_type_accuracy: 0.9278\n",
      "Epoch 26/180\n",
      "3155/3155 [==============================] - 0s 95us/sample - loss: 0.6528 - wine_quality_loss: 0.4744 - wine_type_loss: 0.1790 - wine_quality_root_mean_squared_error: 0.6885 - wine_type_accuracy: 0.9376 - val_loss: 0.6343 - val_wine_quality_loss: 0.4640 - val_wine_type_loss: 0.1719 - val_wine_quality_root_mean_squared_error: 0.6804 - val_wine_type_accuracy: 0.9290\n",
      "Epoch 27/180\n",
      "3155/3155 [==============================] - 0s 95us/sample - loss: 0.6625 - wine_quality_loss: 0.4843 - wine_type_loss: 0.1784 - wine_quality_root_mean_squared_error: 0.6962 - wine_type_accuracy: 0.9379 - val_loss: 0.7756 - val_wine_quality_loss: 0.6059 - val_wine_type_loss: 0.1733 - val_wine_quality_root_mean_squared_error: 0.7766 - val_wine_type_accuracy: 0.9392\n",
      "Epoch 28/180\n",
      "3155/3155 [==============================] - 0s 96us/sample - loss: 0.6634 - wine_quality_loss: 0.4864 - wine_type_loss: 0.1776 - wine_quality_root_mean_squared_error: 0.6969 - wine_type_accuracy: 0.9360 - val_loss: 0.7438 - val_wine_quality_loss: 0.5725 - val_wine_type_loss: 0.1694 - val_wine_quality_root_mean_squared_error: 0.7583 - val_wine_type_accuracy: 0.9316\n",
      "Epoch 29/180\n",
      "3155/3155 [==============================] - 0s 97us/sample - loss: 0.6399 - wine_quality_loss: 0.4638 - wine_type_loss: 0.1758 - wine_quality_root_mean_squared_error: 0.6814 - wine_type_accuracy: 0.9382 - val_loss: 0.6002 - val_wine_quality_loss: 0.4319 - val_wine_type_loss: 0.1674 - val_wine_quality_root_mean_squared_error: 0.6584 - val_wine_type_accuracy: 0.9328\n",
      "Epoch 30/180\n",
      "3155/3155 [==============================] - 0s 96us/sample - loss: 0.6521 - wine_quality_loss: 0.4758 - wine_type_loss: 0.1757 - wine_quality_root_mean_squared_error: 0.6900 - wine_type_accuracy: 0.9382 - val_loss: 0.6229 - val_wine_quality_loss: 0.4498 - val_wine_type_loss: 0.1718 - val_wine_quality_root_mean_squared_error: 0.6721 - val_wine_type_accuracy: 0.9328\n",
      "Epoch 31/180\n",
      "3155/3155 [==============================] - 0s 96us/sample - loss: 0.6478 - wine_quality_loss: 0.4735 - wine_type_loss: 0.1738 - wine_quality_root_mean_squared_error: 0.6881 - wine_type_accuracy: 0.9382 - val_loss: 0.6648 - val_wine_quality_loss: 0.4918 - val_wine_type_loss: 0.1715 - val_wine_quality_root_mean_squared_error: 0.7028 - val_wine_type_accuracy: 0.9328\n",
      "Epoch 32/180\n",
      "3155/3155 [==============================] - 0s 114us/sample - loss: 0.6538 - wine_quality_loss: 0.4785 - wine_type_loss: 0.1754 - wine_quality_root_mean_squared_error: 0.6922 - wine_type_accuracy: 0.9385 - val_loss: 0.5703 - val_wine_quality_loss: 0.4028 - val_wine_type_loss: 0.1666 - val_wine_quality_root_mean_squared_error: 0.6358 - val_wine_type_accuracy: 0.9328\n",
      "Epoch 33/180\n",
      "3155/3155 [==============================] - 0s 97us/sample - loss: 0.6286 - wine_quality_loss: 0.4547 - wine_type_loss: 0.1755 - wine_quality_root_mean_squared_error: 0.6742 - wine_type_accuracy: 0.9379 - val_loss: 0.5671 - val_wine_quality_loss: 0.4021 - val_wine_type_loss: 0.1642 - val_wine_quality_root_mean_squared_error: 0.6352 - val_wine_type_accuracy: 0.9328\n",
      "Epoch 34/180\n",
      "3155/3155 [==============================] - 0s 96us/sample - loss: 0.6406 - wine_quality_loss: 0.4669 - wine_type_loss: 0.1729 - wine_quality_root_mean_squared_error: 0.6840 - wine_type_accuracy: 0.9382 - val_loss: 0.5362 - val_wine_quality_loss: 0.3716 - val_wine_type_loss: 0.1645 - val_wine_quality_root_mean_squared_error: 0.6102 - val_wine_type_accuracy: 0.9341\n",
      "Epoch 35/180\n",
      "3155/3155 [==============================] - 0s 95us/sample - loss: 0.6364 - wine_quality_loss: 0.4648 - wine_type_loss: 0.1721 - wine_quality_root_mean_squared_error: 0.6816 - wine_type_accuracy: 0.9376 - val_loss: 0.8315 - val_wine_quality_loss: 0.6719 - val_wine_type_loss: 0.1630 - val_wine_quality_root_mean_squared_error: 0.8179 - val_wine_type_accuracy: 0.9341\n",
      "Epoch 36/180\n",
      "3155/3155 [==============================] - 0s 96us/sample - loss: 0.6269 - wine_quality_loss: 0.4560 - wine_type_loss: 0.1697 - wine_quality_root_mean_squared_error: 0.6757 - wine_type_accuracy: 0.9385 - val_loss: 0.5414 - val_wine_quality_loss: 0.3751 - val_wine_type_loss: 0.1660 - val_wine_quality_root_mean_squared_error: 0.6132 - val_wine_type_accuracy: 0.9354\n",
      "Epoch 37/180\n",
      "3155/3155 [==============================] - 0s 96us/sample - loss: 0.6366 - wine_quality_loss: 0.4664 - wine_type_loss: 0.1704 - wine_quality_root_mean_squared_error: 0.6832 - wine_type_accuracy: 0.9385 - val_loss: 0.5390 - val_wine_quality_loss: 0.3765 - val_wine_type_loss: 0.1628 - val_wine_quality_root_mean_squared_error: 0.6138 - val_wine_type_accuracy: 0.9366\n",
      "Epoch 38/180\n",
      "3155/3155 [==============================] - 0s 94us/sample - loss: 0.6345 - wine_quality_loss: 0.4649 - wine_type_loss: 0.1687 - wine_quality_root_mean_squared_error: 0.6822 - wine_type_accuracy: 0.9395 - val_loss: 0.5636 - val_wine_quality_loss: 0.3953 - val_wine_type_loss: 0.1674 - val_wine_quality_root_mean_squared_error: 0.6298 - val_wine_type_accuracy: 0.9341\n",
      "Epoch 39/180\n",
      "3155/3155 [==============================] - 0s 99us/sample - loss: 0.6349 - wine_quality_loss: 0.4683 - wine_type_loss: 0.1686 - wine_quality_root_mean_squared_error: 0.6836 - wine_type_accuracy: 0.9388 - val_loss: 0.6441 - val_wine_quality_loss: 0.4846 - val_wine_type_loss: 0.1613 - val_wine_quality_root_mean_squared_error: 0.6951 - val_wine_type_accuracy: 0.9379\n",
      "Epoch 40/180\n",
      "3155/3155 [==============================] - 0s 95us/sample - loss: 0.6342 - wine_quality_loss: 0.4677 - wine_type_loss: 0.1656 - wine_quality_root_mean_squared_error: 0.6843 - wine_type_accuracy: 0.9391 - val_loss: 0.5867 - val_wine_quality_loss: 0.4295 - val_wine_type_loss: 0.1586 - val_wine_quality_root_mean_squared_error: 0.6548 - val_wine_type_accuracy: 0.9430\n",
      "Epoch 41/180\n",
      "3155/3155 [==============================] - 0s 95us/sample - loss: 0.6320 - wine_quality_loss: 0.4668 - wine_type_loss: 0.1671 - wine_quality_root_mean_squared_error: 0.6825 - wine_type_accuracy: 0.9407 - val_loss: 0.6826 - val_wine_quality_loss: 0.5284 - val_wine_type_loss: 0.1564 - val_wine_quality_root_mean_squared_error: 0.7257 - val_wine_type_accuracy: 0.9392\n",
      "Epoch 42/180\n",
      "3155/3155 [==============================] - 0s 98us/sample - loss: 0.6353 - wine_quality_loss: 0.4700 - wine_type_loss: 0.1653 - wine_quality_root_mean_squared_error: 0.6858 - wine_type_accuracy: 0.9398 - val_loss: 0.7380 - val_wine_quality_loss: 0.5835 - val_wine_type_loss: 0.1573 - val_wine_quality_root_mean_squared_error: 0.7624 - val_wine_type_accuracy: 0.9379\n",
      "Epoch 43/180\n",
      "3155/3155 [==============================] - 0s 94us/sample - loss: 0.6362 - wine_quality_loss: 0.4717 - wine_type_loss: 0.1648 - wine_quality_root_mean_squared_error: 0.6866 - wine_type_accuracy: 0.9398 - val_loss: 0.6938 - val_wine_quality_loss: 0.5335 - val_wine_type_loss: 0.1586 - val_wine_quality_root_mean_squared_error: 0.7318 - val_wine_type_accuracy: 0.9379\n",
      "Epoch 44/180\n",
      "3155/3155 [==============================] - 0s 114us/sample - loss: 0.6284 - wine_quality_loss: 0.4644 - wine_type_loss: 0.1627 - wine_quality_root_mean_squared_error: 0.6822 - wine_type_accuracy: 0.9404 - val_loss: 0.5789 - val_wine_quality_loss: 0.4217 - val_wine_type_loss: 0.1561 - val_wine_quality_root_mean_squared_error: 0.6505 - val_wine_type_accuracy: 0.9392\n",
      "Epoch 45/180\n",
      "3155/3155 [==============================] - 0s 98us/sample - loss: 0.6193 - wine_quality_loss: 0.4590 - wine_type_loss: 0.1627 - wine_quality_root_mean_squared_error: 0.6756 - wine_type_accuracy: 0.9395 - val_loss: 0.9780 - val_wine_quality_loss: 0.8216 - val_wine_type_loss: 0.1546 - val_wine_quality_root_mean_squared_error: 0.9076 - val_wine_type_accuracy: 0.9392\n",
      "Epoch 46/180\n",
      "3155/3155 [==============================] - 0s 95us/sample - loss: 0.6257 - wine_quality_loss: 0.4632 - wine_type_loss: 0.1610 - wine_quality_root_mean_squared_error: 0.6813 - wine_type_accuracy: 0.9385 - val_loss: 0.5324 - val_wine_quality_loss: 0.3739 - val_wine_type_loss: 0.1580 - val_wine_quality_root_mean_squared_error: 0.6122 - val_wine_type_accuracy: 0.9379\n",
      "Epoch 47/180\n",
      "3155/3155 [==============================] - 0s 97us/sample - loss: 0.6027 - wine_quality_loss: 0.4426 - wine_type_loss: 0.1609 - wine_quality_root_mean_squared_error: 0.6643 - wine_type_accuracy: 0.9398 - val_loss: 0.8844 - val_wine_quality_loss: 0.7200 - val_wine_type_loss: 0.1623 - val_wine_quality_root_mean_squared_error: 0.8500 - val_wine_type_accuracy: 0.9366\n",
      "Epoch 48/180\n",
      "3155/3155 [==============================] - 0s 99us/sample - loss: 0.6137 - wine_quality_loss: 0.4530 - wine_type_loss: 0.1599 - wine_quality_root_mean_squared_error: 0.6734 - wine_type_accuracy: 0.9414 - val_loss: 0.5164 - val_wine_quality_loss: 0.3646 - val_wine_type_loss: 0.1514 - val_wine_quality_root_mean_squared_error: 0.6044 - val_wine_type_accuracy: 0.9430\n",
      "Epoch 49/180\n",
      "3155/3155 [==============================] - 0s 97us/sample - loss: 0.6164 - wine_quality_loss: 0.4567 - wine_type_loss: 0.1594 - wine_quality_root_mean_squared_error: 0.6760 - wine_type_accuracy: 0.9401 - val_loss: 0.7208 - val_wine_quality_loss: 0.5669 - val_wine_type_loss: 0.1522 - val_wine_quality_root_mean_squared_error: 0.7543 - val_wine_type_accuracy: 0.9430\n",
      "Epoch 50/180\n",
      "3155/3155 [==============================] - 0s 114us/sample - loss: 0.6225 - wine_quality_loss: 0.4634 - wine_type_loss: 0.1582 - wine_quality_root_mean_squared_error: 0.6816 - wine_type_accuracy: 0.9423 - val_loss: 0.5527 - val_wine_quality_loss: 0.4013 - val_wine_type_loss: 0.1518 - val_wine_quality_root_mean_squared_error: 0.6334 - val_wine_type_accuracy: 0.9430\n",
      "Epoch 51/180\n",
      "3155/3155 [==============================] - 0s 97us/sample - loss: 0.6116 - wine_quality_loss: 0.4533 - wine_type_loss: 0.1592 - wine_quality_root_mean_squared_error: 0.6737 - wine_type_accuracy: 0.9433 - val_loss: 1.0431 - val_wine_quality_loss: 0.8990 - val_wine_type_loss: 0.1488 - val_wine_quality_root_mean_squared_error: 0.9458 - val_wine_type_accuracy: 0.9455\n",
      "Epoch 52/180\n",
      "3155/3155 [==============================] - 0s 96us/sample - loss: 0.6139 - wine_quality_loss: 0.4564 - wine_type_loss: 0.1575 - wine_quality_root_mean_squared_error: 0.6758 - wine_type_accuracy: 0.9436 - val_loss: 0.5256 - val_wine_quality_loss: 0.3777 - val_wine_type_loss: 0.1484 - val_wine_quality_root_mean_squared_error: 0.6145 - val_wine_type_accuracy: 0.9455\n",
      "Epoch 53/180\n",
      "3155/3155 [==============================] - 0s 97us/sample - loss: 0.6274 - wine_quality_loss: 0.4704 - wine_type_loss: 0.1558 - wine_quality_root_mean_squared_error: 0.6864 - wine_type_accuracy: 0.9426 - val_loss: 0.5195 - val_wine_quality_loss: 0.3715 - val_wine_type_loss: 0.1483 - val_wine_quality_root_mean_squared_error: 0.6095 - val_wine_type_accuracy: 0.9430\n",
      "Epoch 54/180\n",
      "3155/3155 [==============================] - 0s 96us/sample - loss: 0.6038 - wine_quality_loss: 0.4487 - wine_type_loss: 0.1563 - wine_quality_root_mean_squared_error: 0.6694 - wine_type_accuracy: 0.9429 - val_loss: 0.6852 - val_wine_quality_loss: 0.5405 - val_wine_type_loss: 0.1469 - val_wine_quality_root_mean_squared_error: 0.7339 - val_wine_type_accuracy: 0.9442\n",
      "Epoch 55/180\n",
      "3155/3155 [==============================] - 0s 95us/sample - loss: 0.6148 - wine_quality_loss: 0.4613 - wine_type_loss: 0.1558 - wine_quality_root_mean_squared_error: 0.6784 - wine_type_accuracy: 0.9429 - val_loss: 0.8419 - val_wine_quality_loss: 0.6928 - val_wine_type_loss: 0.1470 - val_wine_quality_root_mean_squared_error: 0.8338 - val_wine_type_accuracy: 0.9442\n",
      "Epoch 56/180\n",
      "3155/3155 [==============================] - 0s 98us/sample - loss: 0.6151 - wine_quality_loss: 0.4611 - wine_type_loss: 0.1541 - wine_quality_root_mean_squared_error: 0.6794 - wine_type_accuracy: 0.9448 - val_loss: 0.5133 - val_wine_quality_loss: 0.3671 - val_wine_type_loss: 0.1460 - val_wine_quality_root_mean_squared_error: 0.6063 - val_wine_type_accuracy: 0.9468\n",
      "Epoch 57/180\n",
      "3155/3155 [==============================] - 0s 97us/sample - loss: 0.6125 - wine_quality_loss: 0.4590 - wine_type_loss: 0.1525 - wine_quality_root_mean_squared_error: 0.6779 - wine_type_accuracy: 0.9433 - val_loss: 0.5648 - val_wine_quality_loss: 0.4185 - val_wine_type_loss: 0.1473 - val_wine_quality_root_mean_squared_error: 0.6463 - val_wine_type_accuracy: 0.9455\n",
      "Epoch 58/180\n",
      "3155/3155 [==============================] - 0s 97us/sample - loss: 0.5980 - wine_quality_loss: 0.4459 - wine_type_loss: 0.1526 - wine_quality_root_mean_squared_error: 0.6679 - wine_type_accuracy: 0.9436 - val_loss: 0.5698 - val_wine_quality_loss: 0.4201 - val_wine_type_loss: 0.1487 - val_wine_quality_root_mean_squared_error: 0.6491 - val_wine_type_accuracy: 0.9455\n",
      "Epoch 59/180\n",
      "3155/3155 [==============================] - 0s 113us/sample - loss: 0.6097 - wine_quality_loss: 0.4572 - wine_type_loss: 0.1524 - wine_quality_root_mean_squared_error: 0.6766 - wine_type_accuracy: 0.9429 - val_loss: 0.6074 - val_wine_quality_loss: 0.4662 - val_wine_type_loss: 0.1426 - val_wine_quality_root_mean_squared_error: 0.6820 - val_wine_type_accuracy: 0.9493\n",
      "Epoch 60/180\n",
      "3155/3155 [==============================] - 0s 94us/sample - loss: 0.5812 - wine_quality_loss: 0.4303 - wine_type_loss: 0.1507 - wine_quality_root_mean_squared_error: 0.6561 - wine_type_accuracy: 0.9448 - val_loss: 0.7960 - val_wine_quality_loss: 0.6494 - val_wine_type_loss: 0.1448 - val_wine_quality_root_mean_squared_error: 0.8070 - val_wine_type_accuracy: 0.9455\n",
      "Epoch 61/180\n",
      "3155/3155 [==============================] - 0s 97us/sample - loss: 0.6107 - wine_quality_loss: 0.4599 - wine_type_loss: 0.1501 - wine_quality_root_mean_squared_error: 0.6787 - wine_type_accuracy: 0.9439 - val_loss: 0.5110 - val_wine_quality_loss: 0.3660 - val_wine_type_loss: 0.1443 - val_wine_quality_root_mean_squared_error: 0.6057 - val_wine_type_accuracy: 0.9455\n",
      "Epoch 62/180\n",
      "3155/3155 [==============================] - 0s 96us/sample - loss: 0.6001 - wine_quality_loss: 0.4506 - wine_type_loss: 0.1492 - wine_quality_root_mean_squared_error: 0.6711 - wine_type_accuracy: 0.9464 - val_loss: 0.5037 - val_wine_quality_loss: 0.3592 - val_wine_type_loss: 0.1443 - val_wine_quality_root_mean_squared_error: 0.5997 - val_wine_type_accuracy: 0.9455\n",
      "Epoch 63/180\n",
      "3155/3155 [==============================] - 0s 96us/sample - loss: 0.5912 - wine_quality_loss: 0.4441 - wine_type_loss: 0.1483 - wine_quality_root_mean_squared_error: 0.6656 - wine_type_accuracy: 0.9448 - val_loss: 0.8329 - val_wine_quality_loss: 0.6955 - val_wine_type_loss: 0.1405 - val_wine_quality_root_mean_squared_error: 0.8322 - val_wine_type_accuracy: 0.9493\n",
      "Epoch 64/180\n",
      "3155/3155 [==============================] - 0s 96us/sample - loss: 0.5868 - wine_quality_loss: 0.4406 - wine_type_loss: 0.1468 - wine_quality_root_mean_squared_error: 0.6631 - wine_type_accuracy: 0.9448 - val_loss: 0.9140 - val_wine_quality_loss: 0.7748 - val_wine_type_loss: 0.1427 - val_wine_quality_root_mean_squared_error: 0.8784 - val_wine_type_accuracy: 0.9455\n",
      "Epoch 65/180\n",
      "3155/3155 [==============================] - 0s 99us/sample - loss: 0.6017 - wine_quality_loss: 0.4545 - wine_type_loss: 0.1480 - wine_quality_root_mean_squared_error: 0.6741 - wine_type_accuracy: 0.9448 - val_loss: 1.0000 - val_wine_quality_loss: 0.8569 - val_wine_type_loss: 0.1411 - val_wine_quality_root_mean_squared_error: 0.9269 - val_wine_type_accuracy: 0.9468\n",
      "Epoch 66/180\n",
      "3155/3155 [==============================] - 0s 99us/sample - loss: 0.6016 - wine_quality_loss: 0.4548 - wine_type_loss: 0.1461 - wine_quality_root_mean_squared_error: 0.6750 - wine_type_accuracy: 0.9468 - val_loss: 0.5093 - val_wine_quality_loss: 0.3702 - val_wine_type_loss: 0.1389 - val_wine_quality_root_mean_squared_error: 0.6087 - val_wine_type_accuracy: 0.9518\n",
      "Epoch 67/180\n",
      "3155/3155 [==============================] - 0s 113us/sample - loss: 0.5902 - wine_quality_loss: 0.4447 - wine_type_loss: 0.1464 - wine_quality_root_mean_squared_error: 0.6670 - wine_type_accuracy: 0.9455 - val_loss: 0.5379 - val_wine_quality_loss: 0.3939 - val_wine_type_loss: 0.1450 - val_wine_quality_root_mean_squared_error: 0.6271 - val_wine_type_accuracy: 0.9544\n",
      "Epoch 68/180\n",
      "3155/3155 [==============================] - 0s 96us/sample - loss: 0.5939 - wine_quality_loss: 0.4503 - wine_type_loss: 0.1444 - wine_quality_root_mean_squared_error: 0.6704 - wine_type_accuracy: 0.9464 - val_loss: 0.6522 - val_wine_quality_loss: 0.5132 - val_wine_type_loss: 0.1376 - val_wine_quality_root_mean_squared_error: 0.7175 - val_wine_type_accuracy: 0.9531\n",
      "Epoch 69/180\n",
      "3155/3155 [==============================] - 0s 96us/sample - loss: 0.5942 - wine_quality_loss: 0.4504 - wine_type_loss: 0.1429 - wine_quality_root_mean_squared_error: 0.6715 - wine_type_accuracy: 0.9471 - val_loss: 0.5688 - val_wine_quality_loss: 0.4292 - val_wine_type_loss: 0.1384 - val_wine_quality_root_mean_squared_error: 0.6562 - val_wine_type_accuracy: 0.9506\n",
      "Epoch 70/180\n",
      "3155/3155 [==============================] - 0s 96us/sample - loss: 0.5785 - wine_quality_loss: 0.4362 - wine_type_loss: 0.1423 - wine_quality_root_mean_squared_error: 0.6604 - wine_type_accuracy: 0.9480 - val_loss: 0.5377 - val_wine_quality_loss: 0.4033 - val_wine_type_loss: 0.1351 - val_wine_quality_root_mean_squared_error: 0.6346 - val_wine_type_accuracy: 0.9531\n",
      "Epoch 71/180\n",
      "3155/3155 [==============================] - 0s 94us/sample - loss: 0.5897 - wine_quality_loss: 0.4472 - wine_type_loss: 0.1420 - wine_quality_root_mean_squared_error: 0.6692 - wine_type_accuracy: 0.9487 - val_loss: 0.5119 - val_wine_quality_loss: 0.3747 - val_wine_type_loss: 0.1365 - val_wine_quality_root_mean_squared_error: 0.6128 - val_wine_type_accuracy: 0.9506\n",
      "Epoch 72/180\n",
      "3155/3155 [==============================] - 0s 93us/sample - loss: 0.5850 - wine_quality_loss: 0.4426 - wine_type_loss: 0.1411 - wine_quality_root_mean_squared_error: 0.6659 - wine_type_accuracy: 0.9487 - val_loss: 0.5133 - val_wine_quality_loss: 0.3774 - val_wine_type_loss: 0.1364 - val_wine_quality_root_mean_squared_error: 0.6140 - val_wine_type_accuracy: 0.9506\n",
      "Epoch 73/180\n",
      "3155/3155 [==============================] - 0s 94us/sample - loss: 0.5790 - wine_quality_loss: 0.4388 - wine_type_loss: 0.1406 - wine_quality_root_mean_squared_error: 0.6619 - wine_type_accuracy: 0.9496 - val_loss: 0.6183 - val_wine_quality_loss: 0.4831 - val_wine_type_loss: 0.1336 - val_wine_quality_root_mean_squared_error: 0.6963 - val_wine_type_accuracy: 0.9531\n",
      "Epoch 74/180\n",
      "3155/3155 [==============================] - 0s 93us/sample - loss: 0.5846 - wine_quality_loss: 0.4456 - wine_type_loss: 0.1384 - wine_quality_root_mean_squared_error: 0.6679 - wine_type_accuracy: 0.9477 - val_loss: 0.4912 - val_wine_quality_loss: 0.3593 - val_wine_type_loss: 0.1320 - val_wine_quality_root_mean_squared_error: 0.5995 - val_wine_type_accuracy: 0.9531\n",
      "Epoch 75/180\n",
      "3155/3155 [==============================] - 0s 92us/sample - loss: 0.5921 - wine_quality_loss: 0.4522 - wine_type_loss: 0.1383 - wine_quality_root_mean_squared_error: 0.6734 - wine_type_accuracy: 0.9487 - val_loss: 0.5140 - val_wine_quality_loss: 0.3725 - val_wine_type_loss: 0.1407 - val_wine_quality_root_mean_squared_error: 0.6111 - val_wine_type_accuracy: 0.9455\n",
      "Epoch 76/180\n",
      "3155/3155 [==============================] - 0s 80us/sample - loss: 0.5809 - wine_quality_loss: 0.4418 - wine_type_loss: 0.1384 - wine_quality_root_mean_squared_error: 0.6651 - wine_type_accuracy: 0.9487 - val_loss: 0.4887 - val_wine_quality_loss: 0.3563 - val_wine_type_loss: 0.1323 - val_wine_quality_root_mean_squared_error: 0.5971 - val_wine_type_accuracy: 0.9518\n",
      "Epoch 77/180\n",
      "3155/3155 [==============================] - 0s 93us/sample - loss: 0.5745 - wine_quality_loss: 0.4383 - wine_type_loss: 0.1372 - wine_quality_root_mean_squared_error: 0.6610 - wine_type_accuracy: 0.9499 - val_loss: 0.9197 - val_wine_quality_loss: 0.7819 - val_wine_type_loss: 0.1359 - val_wine_quality_root_mean_squared_error: 0.8854 - val_wine_type_accuracy: 0.9480\n",
      "Epoch 78/180\n",
      "3155/3155 [==============================] - 0s 93us/sample - loss: 0.5692 - wine_quality_loss: 0.4317 - wine_type_loss: 0.1371 - wine_quality_root_mean_squared_error: 0.6571 - wine_type_accuracy: 0.9483 - val_loss: 0.6366 - val_wine_quality_loss: 0.5068 - val_wine_type_loss: 0.1315 - val_wine_quality_root_mean_squared_error: 0.7108 - val_wine_type_accuracy: 0.9518\n",
      "Epoch 79/180\n",
      "3155/3155 [==============================] - 0s 94us/sample - loss: 0.5805 - wine_quality_loss: 0.4435 - wine_type_loss: 0.1365 - wine_quality_root_mean_squared_error: 0.6665 - wine_type_accuracy: 0.9490 - val_loss: 0.5102 - val_wine_quality_loss: 0.3784 - val_wine_type_loss: 0.1310 - val_wine_quality_root_mean_squared_error: 0.6159 - val_wine_type_accuracy: 0.9531\n",
      "Epoch 80/180\n",
      "3155/3155 [==============================] - 0s 92us/sample - loss: 0.5632 - wine_quality_loss: 0.4292 - wine_type_loss: 0.1349 - wine_quality_root_mean_squared_error: 0.6544 - wine_type_accuracy: 0.9512 - val_loss: 0.8564 - val_wine_quality_loss: 0.7310 - val_wine_type_loss: 0.1289 - val_wine_quality_root_mean_squared_error: 0.8530 - val_wine_type_accuracy: 0.9531\n",
      "Epoch 81/180\n",
      "3155/3155 [==============================] - 0s 92us/sample - loss: 0.5795 - wine_quality_loss: 0.4442 - wine_type_loss: 0.1350 - wine_quality_root_mean_squared_error: 0.6666 - wine_type_accuracy: 0.9506 - val_loss: 0.5127 - val_wine_quality_loss: 0.3831 - val_wine_type_loss: 0.1299 - val_wine_quality_root_mean_squared_error: 0.6187 - val_wine_type_accuracy: 0.9531\n",
      "Epoch 82/180\n",
      "3155/3155 [==============================] - 0s 94us/sample - loss: 0.5798 - wine_quality_loss: 0.4460 - wine_type_loss: 0.1338 - wine_quality_root_mean_squared_error: 0.6679 - wine_type_accuracy: 0.9493 - val_loss: 0.6250 - val_wine_quality_loss: 0.4951 - val_wine_type_loss: 0.1283 - val_wine_quality_root_mean_squared_error: 0.7048 - val_wine_type_accuracy: 0.9544\n",
      "Epoch 83/180\n",
      "3155/3155 [==============================] - 0s 91us/sample - loss: 0.5728 - wine_quality_loss: 0.4397 - wine_type_loss: 0.1330 - wine_quality_root_mean_squared_error: 0.6632 - wine_type_accuracy: 0.9506 - val_loss: 0.5189 - val_wine_quality_loss: 0.3901 - val_wine_type_loss: 0.1290 - val_wine_quality_root_mean_squared_error: 0.6244 - val_wine_type_accuracy: 0.9531\n",
      "Epoch 84/180\n",
      "3155/3155 [==============================] - 0s 77us/sample - loss: 0.5695 - wine_quality_loss: 0.4365 - wine_type_loss: 0.1320 - wine_quality_root_mean_squared_error: 0.6612 - wine_type_accuracy: 0.9518 - val_loss: 0.7519 - val_wine_quality_loss: 0.6250 - val_wine_type_loss: 0.1294 - val_wine_quality_root_mean_squared_error: 0.7889 - val_wine_type_accuracy: 0.9506\n",
      "Epoch 85/180\n",
      "3155/3155 [==============================] - 0s 93us/sample - loss: 0.5717 - wine_quality_loss: 0.4402 - wine_type_loss: 0.1314 - wine_quality_root_mean_squared_error: 0.6634 - wine_type_accuracy: 0.9531 - val_loss: 0.5129 - val_wine_quality_loss: 0.3831 - val_wine_type_loss: 0.1302 - val_wine_quality_root_mean_squared_error: 0.6186 - val_wine_type_accuracy: 0.9506\n",
      "Epoch 86/180\n",
      "3155/3155 [==============================] - 0s 94us/sample - loss: 0.5746 - wine_quality_loss: 0.4437 - wine_type_loss: 0.1315 - wine_quality_root_mean_squared_error: 0.6660 - wine_type_accuracy: 0.9512 - val_loss: 0.4806 - val_wine_quality_loss: 0.3553 - val_wine_type_loss: 0.1248 - val_wine_quality_root_mean_squared_error: 0.5965 - val_wine_type_accuracy: 0.9569\n",
      "Epoch 87/180\n",
      "3155/3155 [==============================] - 0s 93us/sample - loss: 0.5634 - wine_quality_loss: 0.4333 - wine_type_loss: 0.1301 - wine_quality_root_mean_squared_error: 0.6583 - wine_type_accuracy: 0.9528 - val_loss: 0.4883 - val_wine_quality_loss: 0.3639 - val_wine_type_loss: 0.1243 - val_wine_quality_root_mean_squared_error: 0.6033 - val_wine_type_accuracy: 0.9544\n",
      "Epoch 88/180\n",
      "3155/3155 [==============================] - 0s 91us/sample - loss: 0.5573 - wine_quality_loss: 0.4304 - wine_type_loss: 0.1286 - wine_quality_root_mean_squared_error: 0.6549 - wine_type_accuracy: 0.9528 - val_loss: 0.6274 - val_wine_quality_loss: 0.5037 - val_wine_type_loss: 0.1222 - val_wine_quality_root_mean_squared_error: 0.7108 - val_wine_type_accuracy: 0.9544\n",
      "Epoch 89/180\n",
      "3155/3155 [==============================] - 0s 91us/sample - loss: 0.5571 - wine_quality_loss: 0.4284 - wine_type_loss: 0.1282 - wine_quality_root_mean_squared_error: 0.6550 - wine_type_accuracy: 0.9521 - val_loss: 0.4981 - val_wine_quality_loss: 0.3766 - val_wine_type_loss: 0.1216 - val_wine_quality_root_mean_squared_error: 0.6135 - val_wine_type_accuracy: 0.9531\n",
      "Epoch 90/180\n",
      "3155/3155 [==============================] - 0s 78us/sample - loss: 0.5493 - wine_quality_loss: 0.4211 - wine_type_loss: 0.1273 - wine_quality_root_mean_squared_error: 0.6496 - wine_type_accuracy: 0.9534 - val_loss: 0.4778 - val_wine_quality_loss: 0.3566 - val_wine_type_loss: 0.1208 - val_wine_quality_root_mean_squared_error: 0.5974 - val_wine_type_accuracy: 0.9569\n",
      "Epoch 91/180\n",
      "3155/3155 [==============================] - 0s 92us/sample - loss: 0.5645 - wine_quality_loss: 0.4374 - wine_type_loss: 0.1268 - wine_quality_root_mean_squared_error: 0.6614 - wine_type_accuracy: 0.9521 - val_loss: 0.5527 - val_wine_quality_loss: 0.4285 - val_wine_type_loss: 0.1247 - val_wine_quality_root_mean_squared_error: 0.6541 - val_wine_type_accuracy: 0.9544\n",
      "Epoch 92/180\n",
      "3155/3155 [==============================] - 0s 93us/sample - loss: 0.5661 - wine_quality_loss: 0.4387 - wine_type_loss: 0.1264 - wine_quality_root_mean_squared_error: 0.6628 - wine_type_accuracy: 0.9528 - val_loss: 0.4855 - val_wine_quality_loss: 0.3625 - val_wine_type_loss: 0.1223 - val_wine_quality_root_mean_squared_error: 0.6026 - val_wine_type_accuracy: 0.9556\n",
      "Epoch 93/180\n",
      "3155/3155 [==============================] - 0s 92us/sample - loss: 0.5522 - wine_quality_loss: 0.4269 - wine_type_loss: 0.1251 - wine_quality_root_mean_squared_error: 0.6532 - wine_type_accuracy: 0.9531 - val_loss: 0.6101 - val_wine_quality_loss: 0.4850 - val_wine_type_loss: 0.1232 - val_wine_quality_root_mean_squared_error: 0.6977 - val_wine_type_accuracy: 0.9544\n",
      "Epoch 94/180\n",
      "3155/3155 [==============================] - 0s 95us/sample - loss: 0.5570 - wine_quality_loss: 0.4323 - wine_type_loss: 0.1245 - wine_quality_root_mean_squared_error: 0.6576 - wine_type_accuracy: 0.9537 - val_loss: 0.6938 - val_wine_quality_loss: 0.5757 - val_wine_type_loss: 0.1205 - val_wine_quality_root_mean_squared_error: 0.7571 - val_wine_type_accuracy: 0.9556\n",
      "Epoch 95/180\n",
      "3155/3155 [==============================] - 0s 91us/sample - loss: 0.5567 - wine_quality_loss: 0.4321 - wine_type_loss: 0.1237 - wine_quality_root_mean_squared_error: 0.6578 - wine_type_accuracy: 0.9550 - val_loss: 0.4709 - val_wine_quality_loss: 0.3520 - val_wine_type_loss: 0.1182 - val_wine_quality_root_mean_squared_error: 0.5938 - val_wine_type_accuracy: 0.9556\n",
      "Epoch 96/180\n",
      "3155/3155 [==============================] - 0s 90us/sample - loss: 0.5533 - wine_quality_loss: 0.4294 - wine_type_loss: 0.1238 - wine_quality_root_mean_squared_error: 0.6557 - wine_type_accuracy: 0.9528 - val_loss: 0.5083 - val_wine_quality_loss: 0.3907 - val_wine_type_loss: 0.1178 - val_wine_quality_root_mean_squared_error: 0.6248 - val_wine_type_accuracy: 0.9582\n",
      "Epoch 97/180\n",
      "3155/3155 [==============================] - 0s 78us/sample - loss: 0.5523 - wine_quality_loss: 0.4300 - wine_type_loss: 0.1219 - wine_quality_root_mean_squared_error: 0.6560 - wine_type_accuracy: 0.9559 - val_loss: 0.4690 - val_wine_quality_loss: 0.3504 - val_wine_type_loss: 0.1179 - val_wine_quality_root_mean_squared_error: 0.5924 - val_wine_type_accuracy: 0.9569\n",
      "Epoch 98/180\n",
      "3155/3155 [==============================] - 0s 94us/sample - loss: 0.5539 - wine_quality_loss: 0.4329 - wine_type_loss: 0.1212 - wine_quality_root_mean_squared_error: 0.6577 - wine_type_accuracy: 0.9547 - val_loss: 0.6054 - val_wine_quality_loss: 0.4812 - val_wine_type_loss: 0.1250 - val_wine_quality_root_mean_squared_error: 0.6929 - val_wine_type_accuracy: 0.9544\n",
      "Epoch 99/180\n",
      "3155/3155 [==============================] - 0s 93us/sample - loss: 0.5551 - wine_quality_loss: 0.4340 - wine_type_loss: 0.1207 - wine_quality_root_mean_squared_error: 0.6589 - wine_type_accuracy: 0.9537 - val_loss: 0.6897 - val_wine_quality_loss: 0.5773 - val_wine_type_loss: 0.1148 - val_wine_quality_root_mean_squared_error: 0.7581 - val_wine_type_accuracy: 0.9620\n",
      "Epoch 100/180\n",
      "3155/3155 [==============================] - 0s 95us/sample - loss: 0.5575 - wine_quality_loss: 0.4382 - wine_type_loss: 0.1193 - wine_quality_root_mean_squared_error: 0.6617 - wine_type_accuracy: 0.9547 - val_loss: 0.6415 - val_wine_quality_loss: 0.5197 - val_wine_type_loss: 0.1194 - val_wine_quality_root_mean_squared_error: 0.7223 - val_wine_type_accuracy: 0.9556\n",
      "Epoch 101/180\n",
      "3155/3155 [==============================] - 0s 94us/sample - loss: 0.5398 - wine_quality_loss: 0.4209 - wine_type_loss: 0.1184 - wine_quality_root_mean_squared_error: 0.6490 - wine_type_accuracy: 0.9550 - val_loss: 0.5679 - val_wine_quality_loss: 0.4505 - val_wine_type_loss: 0.1157 - val_wine_quality_root_mean_squared_error: 0.6722 - val_wine_type_accuracy: 0.9582\n",
      "Epoch 102/180\n",
      "3155/3155 [==============================] - 0s 93us/sample - loss: 0.5472 - wine_quality_loss: 0.4292 - wine_type_loss: 0.1183 - wine_quality_root_mean_squared_error: 0.6548 - wine_type_accuracy: 0.9569 - val_loss: 0.6103 - val_wine_quality_loss: 0.4944 - val_wine_type_loss: 0.1142 - val_wine_quality_root_mean_squared_error: 0.7041 - val_wine_type_accuracy: 0.9594\n",
      "Epoch 103/180\n",
      "3155/3155 [==============================] - 0s 94us/sample - loss: 0.5638 - wine_quality_loss: 0.4461 - wine_type_loss: 0.1166 - wine_quality_root_mean_squared_error: 0.6685 - wine_type_accuracy: 0.9569 - val_loss: 0.4696 - val_wine_quality_loss: 0.3561 - val_wine_type_loss: 0.1130 - val_wine_quality_root_mean_squared_error: 0.5969 - val_wine_type_accuracy: 0.9607\n",
      "Epoch 104/180\n",
      "3155/3155 [==============================] - 0s 92us/sample - loss: 0.5365 - wine_quality_loss: 0.4196 - wine_type_loss: 0.1163 - wine_quality_root_mean_squared_error: 0.6483 - wine_type_accuracy: 0.9572 - val_loss: 0.5419 - val_wine_quality_loss: 0.4272 - val_wine_type_loss: 0.1151 - val_wine_quality_root_mean_squared_error: 0.6531 - val_wine_type_accuracy: 0.9582\n",
      "Epoch 105/180\n",
      "3155/3155 [==============================] - 0s 91us/sample - loss: 0.5466 - wine_quality_loss: 0.4322 - wine_type_loss: 0.1150 - wine_quality_root_mean_squared_error: 0.6569 - wine_type_accuracy: 0.9582 - val_loss: 0.7381 - val_wine_quality_loss: 0.6242 - val_wine_type_loss: 0.1119 - val_wine_quality_root_mean_squared_error: 0.7912 - val_wine_type_accuracy: 0.9620\n",
      "Epoch 106/180\n",
      "3155/3155 [==============================] - 0s 77us/sample - loss: 0.5377 - wine_quality_loss: 0.4230 - wine_type_loss: 0.1145 - wine_quality_root_mean_squared_error: 0.6504 - wine_type_accuracy: 0.9566 - val_loss: 0.5237 - val_wine_quality_loss: 0.4126 - val_wine_type_loss: 0.1115 - val_wine_quality_root_mean_squared_error: 0.6418 - val_wine_type_accuracy: 0.9594\n",
      "Epoch 107/180\n",
      "3155/3155 [==============================] - 0s 93us/sample - loss: 0.5636 - wine_quality_loss: 0.4481 - wine_type_loss: 0.1147 - wine_quality_root_mean_squared_error: 0.6700 - wine_type_accuracy: 0.9572 - val_loss: 0.4665 - val_wine_quality_loss: 0.3537 - val_wine_type_loss: 0.1118 - val_wine_quality_root_mean_squared_error: 0.5954 - val_wine_type_accuracy: 0.9696\n",
      "Epoch 108/180\n",
      "3155/3155 [==============================] - 0s 92us/sample - loss: 0.5436 - wine_quality_loss: 0.4300 - wine_type_loss: 0.1141 - wine_quality_root_mean_squared_error: 0.6553 - wine_type_accuracy: 0.9594 - val_loss: 0.4790 - val_wine_quality_loss: 0.3669 - val_wine_type_loss: 0.1110 - val_wine_quality_root_mean_squared_error: 0.6064 - val_wine_type_accuracy: 0.9632\n",
      "Epoch 109/180\n",
      "3155/3155 [==============================] - 0s 92us/sample - loss: 0.5478 - wine_quality_loss: 0.4337 - wine_type_loss: 0.1135 - wine_quality_root_mean_squared_error: 0.6589 - wine_type_accuracy: 0.9582 - val_loss: 0.4720 - val_wine_quality_loss: 0.3601 - val_wine_type_loss: 0.1108 - val_wine_quality_root_mean_squared_error: 0.6008 - val_wine_type_accuracy: 0.9620\n",
      "Epoch 110/180\n",
      "3155/3155 [==============================] - 0s 91us/sample - loss: 0.5323 - wine_quality_loss: 0.4190 - wine_type_loss: 0.1127 - wine_quality_root_mean_squared_error: 0.6476 - wine_type_accuracy: 0.9601 - val_loss: 0.4826 - val_wine_quality_loss: 0.3711 - val_wine_type_loss: 0.1114 - val_wine_quality_root_mean_squared_error: 0.6090 - val_wine_type_accuracy: 0.9582\n",
      "Epoch 111/180\n",
      "3155/3155 [==============================] - 0s 91us/sample - loss: 0.5382 - wine_quality_loss: 0.4271 - wine_type_loss: 0.1113 - wine_quality_root_mean_squared_error: 0.6533 - wine_type_accuracy: 0.9582 - val_loss: 0.6286 - val_wine_quality_loss: 0.5124 - val_wine_type_loss: 0.1141 - val_wine_quality_root_mean_squared_error: 0.7170 - val_wine_type_accuracy: 0.9582\n",
      "Epoch 112/180\n",
      "3155/3155 [==============================] - 0s 76us/sample - loss: 0.5316 - wine_quality_loss: 0.4206 - wine_type_loss: 0.1118 - wine_quality_root_mean_squared_error: 0.6480 - wine_type_accuracy: 0.9601 - val_loss: 0.9500 - val_wine_quality_loss: 0.8430 - val_wine_type_loss: 0.1105 - val_wine_quality_root_mean_squared_error: 0.9161 - val_wine_type_accuracy: 0.9683\n",
      "Epoch 113/180\n",
      "3155/3155 [==============================] - 0s 93us/sample - loss: 0.5406 - wine_quality_loss: 0.4297 - wine_type_loss: 0.1123 - wine_quality_root_mean_squared_error: 0.6551 - wine_type_accuracy: 0.9601 - val_loss: 0.5903 - val_wine_quality_loss: 0.4815 - val_wine_type_loss: 0.1104 - val_wine_quality_root_mean_squared_error: 0.6924 - val_wine_type_accuracy: 0.9594\n",
      "Epoch 114/180\n",
      "3155/3155 [==============================] - 0s 93us/sample - loss: 0.5364 - wine_quality_loss: 0.4260 - wine_type_loss: 0.1095 - wine_quality_root_mean_squared_error: 0.6535 - wine_type_accuracy: 0.9616 - val_loss: 0.7553 - val_wine_quality_loss: 0.6495 - val_wine_type_loss: 0.1083 - val_wine_quality_root_mean_squared_error: 0.8041 - val_wine_type_accuracy: 0.9696\n",
      "Epoch 115/180\n",
      "3155/3155 [==============================] - 0s 92us/sample - loss: 0.5355 - wine_quality_loss: 0.4261 - wine_type_loss: 0.1095 - wine_quality_root_mean_squared_error: 0.6527 - wine_type_accuracy: 0.9639 - val_loss: 0.5326 - val_wine_quality_loss: 0.4207 - val_wine_type_loss: 0.1123 - val_wine_quality_root_mean_squared_error: 0.6480 - val_wine_type_accuracy: 0.9582\n",
      "Epoch 116/180\n",
      "3155/3155 [==============================] - 0s 91us/sample - loss: 0.5277 - wine_quality_loss: 0.4188 - wine_type_loss: 0.1094 - wine_quality_root_mean_squared_error: 0.6469 - wine_type_accuracy: 0.9597 - val_loss: 0.6319 - val_wine_quality_loss: 0.5193 - val_wine_type_loss: 0.1104 - val_wine_quality_root_mean_squared_error: 0.7218 - val_wine_type_accuracy: 0.9620\n",
      "Epoch 117/180\n",
      "3155/3155 [==============================] - 0s 76us/sample - loss: 0.5268 - wine_quality_loss: 0.4179 - wine_type_loss: 0.1088 - wine_quality_root_mean_squared_error: 0.6463 - wine_type_accuracy: 0.9597 - val_loss: 0.8644 - val_wine_quality_loss: 0.7545 - val_wine_type_loss: 0.1073 - val_wine_quality_root_mean_squared_error: 0.8699 - val_wine_type_accuracy: 0.9658\n",
      "Epoch 118/180\n",
      "3155/3155 [==============================] - 0s 92us/sample - loss: 0.5358 - wine_quality_loss: 0.4269 - wine_type_loss: 0.1075 - wine_quality_root_mean_squared_error: 0.6542 - wine_type_accuracy: 0.9635 - val_loss: 0.4631 - val_wine_quality_loss: 0.3484 - val_wine_type_loss: 0.1136 - val_wine_quality_root_mean_squared_error: 0.5908 - val_wine_type_accuracy: 0.9569\n",
      "Epoch 119/180\n",
      "3155/3155 [==============================] - 0s 94us/sample - loss: 0.5246 - wine_quality_loss: 0.4175 - wine_type_loss: 0.1066 - wine_quality_root_mean_squared_error: 0.6464 - wine_type_accuracy: 0.9632 - val_loss: 0.4879 - val_wine_quality_loss: 0.3820 - val_wine_type_loss: 0.1061 - val_wine_quality_root_mean_squared_error: 0.6176 - val_wine_type_accuracy: 0.9708\n",
      "Epoch 120/180\n",
      "3155/3155 [==============================] - 0s 92us/sample - loss: 0.5350 - wine_quality_loss: 0.4277 - wine_type_loss: 0.1067 - wine_quality_root_mean_squared_error: 0.6543 - wine_type_accuracy: 0.9642 - val_loss: 0.4615 - val_wine_quality_loss: 0.3547 - val_wine_type_loss: 0.1055 - val_wine_quality_root_mean_squared_error: 0.5963 - val_wine_type_accuracy: 0.9696\n",
      "Epoch 121/180\n",
      "3155/3155 [==============================] - 0s 90us/sample - loss: 0.5337 - wine_quality_loss: 0.4279 - wine_type_loss: 0.1063 - wine_quality_root_mean_squared_error: 0.6540 - wine_type_accuracy: 0.9645 - val_loss: 0.6157 - val_wine_quality_loss: 0.5097 - val_wine_type_loss: 0.1073 - val_wine_quality_root_mean_squared_error: 0.7128 - val_wine_type_accuracy: 0.9721\n",
      "Epoch 122/180\n",
      "3155/3155 [==============================] - 0s 91us/sample - loss: 0.5212 - wine_quality_loss: 0.4166 - wine_type_loss: 0.1060 - wine_quality_root_mean_squared_error: 0.6443 - wine_type_accuracy: 0.9648 - val_loss: 0.6795 - val_wine_quality_loss: 0.5741 - val_wine_type_loss: 0.1076 - val_wine_quality_root_mean_squared_error: 0.7560 - val_wine_type_accuracy: 0.9620\n",
      "Epoch 123/180\n",
      "3155/3155 [==============================] - 0s 77us/sample - loss: 0.5232 - wine_quality_loss: 0.4187 - wine_type_loss: 0.1045 - wine_quality_root_mean_squared_error: 0.6468 - wine_type_accuracy: 0.9645 - val_loss: 0.4568 - val_wine_quality_loss: 0.3512 - val_wine_type_loss: 0.1047 - val_wine_quality_root_mean_squared_error: 0.5930 - val_wine_type_accuracy: 0.9683\n",
      "Epoch 124/180\n",
      "3155/3155 [==============================] - 0s 91us/sample - loss: 0.5210 - wine_quality_loss: 0.4157 - wine_type_loss: 0.1044 - wine_quality_root_mean_squared_error: 0.6453 - wine_type_accuracy: 0.9623 - val_loss: 0.4564 - val_wine_quality_loss: 0.3497 - val_wine_type_loss: 0.1059 - val_wine_quality_root_mean_squared_error: 0.5917 - val_wine_type_accuracy: 0.9683\n",
      "Epoch 125/180\n",
      "3155/3155 [==============================] - 0s 94us/sample - loss: 0.5329 - wine_quality_loss: 0.4294 - wine_type_loss: 0.1035 - wine_quality_root_mean_squared_error: 0.6550 - wine_type_accuracy: 0.9655 - val_loss: 0.4921 - val_wine_quality_loss: 0.3874 - val_wine_type_loss: 0.1047 - val_wine_quality_root_mean_squared_error: 0.6220 - val_wine_type_accuracy: 0.9683\n",
      "Epoch 126/180\n",
      "3155/3155 [==============================] - 0s 91us/sample - loss: 0.5174 - wine_quality_loss: 0.4131 - wine_type_loss: 0.1039 - wine_quality_root_mean_squared_error: 0.6431 - wine_type_accuracy: 0.9642 - val_loss: 0.5202 - val_wine_quality_loss: 0.4146 - val_wine_type_loss: 0.1039 - val_wine_quality_root_mean_squared_error: 0.6449 - val_wine_type_accuracy: 0.9734\n",
      "Epoch 127/180\n",
      "3155/3155 [==============================] - 0s 91us/sample - loss: 0.5266 - wine_quality_loss: 0.4221 - wine_type_loss: 0.1042 - wine_quality_root_mean_squared_error: 0.6503 - wine_type_accuracy: 0.9664 - val_loss: 0.4592 - val_wine_quality_loss: 0.3450 - val_wine_type_loss: 0.1136 - val_wine_quality_root_mean_squared_error: 0.5878 - val_wine_type_accuracy: 0.9747\n",
      "Epoch 128/180\n",
      "3155/3155 [==============================] - 0s 77us/sample - loss: 0.5230 - wine_quality_loss: 0.4194 - wine_type_loss: 0.1038 - wine_quality_root_mean_squared_error: 0.6480 - wine_type_accuracy: 0.9664 - val_loss: 0.4484 - val_wine_quality_loss: 0.3447 - val_wine_type_loss: 0.1027 - val_wine_quality_root_mean_squared_error: 0.5876 - val_wine_type_accuracy: 0.9721\n",
      "Epoch 129/180\n",
      "3155/3155 [==============================] - 0s 91us/sample - loss: 0.5270 - wine_quality_loss: 0.4247 - wine_type_loss: 0.1020 - wine_quality_root_mean_squared_error: 0.6519 - wine_type_accuracy: 0.9661 - val_loss: 0.5370 - val_wine_quality_loss: 0.4358 - val_wine_type_loss: 0.1018 - val_wine_quality_root_mean_squared_error: 0.6594 - val_wine_type_accuracy: 0.9721\n",
      "Epoch 130/180\n",
      "3155/3155 [==============================] - 0s 93us/sample - loss: 0.5232 - wine_quality_loss: 0.4208 - wine_type_loss: 0.1015 - wine_quality_root_mean_squared_error: 0.6491 - wine_type_accuracy: 0.9651 - val_loss: 0.5065 - val_wine_quality_loss: 0.3994 - val_wine_type_loss: 0.1051 - val_wine_quality_root_mean_squared_error: 0.6332 - val_wine_type_accuracy: 0.9632\n",
      "Epoch 131/180\n",
      "3155/3155 [==============================] - 0s 89us/sample - loss: 0.5143 - wine_quality_loss: 0.4131 - wine_type_loss: 0.1012 - wine_quality_root_mean_squared_error: 0.6429 - wine_type_accuracy: 0.9661 - val_loss: 0.4833 - val_wine_quality_loss: 0.3793 - val_wine_type_loss: 0.1041 - val_wine_quality_root_mean_squared_error: 0.6156 - val_wine_type_accuracy: 0.9759\n",
      "Epoch 132/180\n",
      "3155/3155 [==============================] - 0s 91us/sample - loss: 0.5133 - wine_quality_loss: 0.4130 - wine_type_loss: 0.1004 - wine_quality_root_mean_squared_error: 0.6423 - wine_type_accuracy: 0.9655 - val_loss: 0.4489 - val_wine_quality_loss: 0.3433 - val_wine_type_loss: 0.1046 - val_wine_quality_root_mean_squared_error: 0.5863 - val_wine_type_accuracy: 0.9645\n",
      "Epoch 133/180\n",
      "3155/3155 [==============================] - 0s 75us/sample - loss: 0.5184 - wine_quality_loss: 0.4179 - wine_type_loss: 0.1009 - wine_quality_root_mean_squared_error: 0.6466 - wine_type_accuracy: 0.9667 - val_loss: 0.7595 - val_wine_quality_loss: 0.6605 - val_wine_type_loss: 0.1015 - val_wine_quality_root_mean_squared_error: 0.8109 - val_wine_type_accuracy: 0.9759\n",
      "Epoch 134/180\n",
      "3155/3155 [==============================] - 0s 90us/sample - loss: 0.5162 - wine_quality_loss: 0.4165 - wine_type_loss: 0.0992 - wine_quality_root_mean_squared_error: 0.6457 - wine_type_accuracy: 0.9667 - val_loss: 0.4845 - val_wine_quality_loss: 0.3812 - val_wine_type_loss: 0.1017 - val_wine_quality_root_mean_squared_error: 0.6183 - val_wine_type_accuracy: 0.9696\n",
      "Epoch 135/180\n",
      "3155/3155 [==============================] - 0s 89us/sample - loss: 0.5107 - wine_quality_loss: 0.4138 - wine_type_loss: 0.0986 - wine_quality_root_mean_squared_error: 0.6420 - wine_type_accuracy: 0.9664 - val_loss: 0.7978 - val_wine_quality_loss: 0.7006 - val_wine_type_loss: 0.0997 - val_wine_quality_root_mean_squared_error: 0.8352 - val_wine_type_accuracy: 0.9747\n",
      "Epoch 136/180\n",
      "3155/3155 [==============================] - 0s 75us/sample - loss: 0.5037 - wine_quality_loss: 0.4055 - wine_type_loss: 0.0977 - wine_quality_root_mean_squared_error: 0.6370 - wine_type_accuracy: 0.9696 - val_loss: 0.5002 - val_wine_quality_loss: 0.3981 - val_wine_type_loss: 0.1004 - val_wine_quality_root_mean_squared_error: 0.6319 - val_wine_type_accuracy: 0.9708\n",
      "Epoch 137/180\n",
      "3155/3155 [==============================] - 0s 89us/sample - loss: 0.5097 - wine_quality_loss: 0.4104 - wine_type_loss: 0.0992 - wine_quality_root_mean_squared_error: 0.6406 - wine_type_accuracy: 0.9670 - val_loss: 0.4442 - val_wine_quality_loss: 0.3441 - val_wine_type_loss: 0.0992 - val_wine_quality_root_mean_squared_error: 0.5870 - val_wine_type_accuracy: 0.9734\n",
      "Epoch 138/180\n",
      "3155/3155 [==============================] - 0s 86us/sample - loss: 0.5087 - wine_quality_loss: 0.4113 - wine_type_loss: 0.0971 - wine_quality_root_mean_squared_error: 0.6415 - wine_type_accuracy: 0.9702 - val_loss: 0.5229 - val_wine_quality_loss: 0.4241 - val_wine_type_loss: 0.0990 - val_wine_quality_root_mean_squared_error: 0.6507 - val_wine_type_accuracy: 0.9734\n",
      "Epoch 139/180\n",
      "3155/3155 [==============================] - 0s 74us/sample - loss: 0.5188 - wine_quality_loss: 0.4234 - wine_type_loss: 0.0964 - wine_quality_root_mean_squared_error: 0.6498 - wine_type_accuracy: 0.9680 - val_loss: 0.6951 - val_wine_quality_loss: 0.5934 - val_wine_type_loss: 0.0994 - val_wine_quality_root_mean_squared_error: 0.7715 - val_wine_type_accuracy: 0.9708\n",
      "Epoch 140/180\n",
      "3155/3155 [==============================] - 0s 89us/sample - loss: 0.5158 - wine_quality_loss: 0.4192 - wine_type_loss: 0.0967 - wine_quality_root_mean_squared_error: 0.6472 - wine_type_accuracy: 0.9680 - val_loss: 0.4440 - val_wine_quality_loss: 0.3436 - val_wine_type_loss: 0.0994 - val_wine_quality_root_mean_squared_error: 0.5866 - val_wine_type_accuracy: 0.9708\n",
      "Epoch 141/180\n",
      "3155/3155 [==============================] - 0s 72us/sample - loss: 0.5061 - wine_quality_loss: 0.4093 - wine_type_loss: 0.0967 - wine_quality_root_mean_squared_error: 0.6397 - wine_type_accuracy: 0.9689 - val_loss: 0.4933 - val_wine_quality_loss: 0.3933 - val_wine_type_loss: 0.0983 - val_wine_quality_root_mean_squared_error: 0.6281 - val_wine_type_accuracy: 0.9759\n",
      "Epoch 142/180\n",
      "3155/3155 [==============================] - 0s 91us/sample - loss: 0.5004 - wine_quality_loss: 0.4048 - wine_type_loss: 0.0957 - wine_quality_root_mean_squared_error: 0.6366 - wine_type_accuracy: 0.9693 - val_loss: 0.4674 - val_wine_quality_loss: 0.3692 - val_wine_type_loss: 0.0967 - val_wine_quality_root_mean_squared_error: 0.6086 - val_wine_type_accuracy: 0.9772\n",
      "Epoch 143/180\n",
      "3155/3155 [==============================] - 0s 87us/sample - loss: 0.5035 - wine_quality_loss: 0.4084 - wine_type_loss: 0.0974 - wine_quality_root_mean_squared_error: 0.6388 - wine_type_accuracy: 0.9677 - val_loss: 0.6437 - val_wine_quality_loss: 0.5376 - val_wine_type_loss: 0.1073 - val_wine_quality_root_mean_squared_error: 0.7323 - val_wine_type_accuracy: 0.9759\n",
      "Epoch 144/180\n",
      "3155/3155 [==============================] - 0s 74us/sample - loss: 0.5006 - wine_quality_loss: 0.4047 - wine_type_loss: 0.0949 - wine_quality_root_mean_squared_error: 0.6367 - wine_type_accuracy: 0.9718 - val_loss: 0.4530 - val_wine_quality_loss: 0.3539 - val_wine_type_loss: 0.0977 - val_wine_quality_root_mean_squared_error: 0.5956 - val_wine_type_accuracy: 0.9721\n",
      "Epoch 145/180\n",
      "3155/3155 [==============================] - 0s 89us/sample - loss: 0.5086 - wine_quality_loss: 0.4150 - wine_type_loss: 0.0933 - wine_quality_root_mean_squared_error: 0.6443 - wine_type_accuracy: 0.9693 - val_loss: 0.4575 - val_wine_quality_loss: 0.3605 - val_wine_type_loss: 0.0955 - val_wine_quality_root_mean_squared_error: 0.6013 - val_wine_type_accuracy: 0.9734\n",
      "Epoch 146/180\n",
      "3155/3155 [==============================] - 0s 89us/sample - loss: 0.4989 - wine_quality_loss: 0.4047 - wine_type_loss: 0.0937 - wine_quality_root_mean_squared_error: 0.6364 - wine_type_accuracy: 0.9708 - val_loss: 0.4584 - val_wine_quality_loss: 0.3614 - val_wine_type_loss: 0.0956 - val_wine_quality_root_mean_squared_error: 0.6020 - val_wine_type_accuracy: 0.9721\n",
      "Epoch 147/180\n",
      "3155/3155 [==============================] - 0s 75us/sample - loss: 0.5043 - wine_quality_loss: 0.4099 - wine_type_loss: 0.0939 - wine_quality_root_mean_squared_error: 0.6406 - wine_type_accuracy: 0.9693 - val_loss: 0.4651 - val_wine_quality_loss: 0.3696 - val_wine_type_loss: 0.0952 - val_wine_quality_root_mean_squared_error: 0.6078 - val_wine_type_accuracy: 0.9734\n",
      "Epoch 148/180\n",
      "3155/3155 [==============================] - 0s 90us/sample - loss: 0.4932 - wine_quality_loss: 0.4004 - wine_type_loss: 0.0930 - wine_quality_root_mean_squared_error: 0.6326 - wine_type_accuracy: 0.9696 - val_loss: 0.4529 - val_wine_quality_loss: 0.3457 - val_wine_type_loss: 0.1057 - val_wine_quality_root_mean_squared_error: 0.5887 - val_wine_type_accuracy: 0.9632\n",
      "Epoch 149/180\n",
      "3155/3155 [==============================] - 0s 89us/sample - loss: 0.5078 - wine_quality_loss: 0.4144 - wine_type_loss: 0.0922 - wine_quality_root_mean_squared_error: 0.6445 - wine_type_accuracy: 0.9705 - val_loss: 0.4409 - val_wine_quality_loss: 0.3425 - val_wine_type_loss: 0.0973 - val_wine_quality_root_mean_squared_error: 0.5857 - val_wine_type_accuracy: 0.9708\n",
      "Epoch 150/180\n",
      "3155/3155 [==============================] - 0s 75us/sample - loss: 0.4995 - wine_quality_loss: 0.4064 - wine_type_loss: 0.0921 - wine_quality_root_mean_squared_error: 0.6380 - wine_type_accuracy: 0.9721 - val_loss: 0.4469 - val_wine_quality_loss: 0.3437 - val_wine_type_loss: 0.1018 - val_wine_quality_root_mean_squared_error: 0.5870 - val_wine_type_accuracy: 0.9658\n",
      "Epoch 151/180\n",
      "3155/3155 [==============================] - 0s 89us/sample - loss: 0.4920 - wine_quality_loss: 0.4009 - wine_type_loss: 0.0916 - wine_quality_root_mean_squared_error: 0.6327 - wine_type_accuracy: 0.9718 - val_loss: 0.5896 - val_wine_quality_loss: 0.4942 - val_wine_type_loss: 0.0935 - val_wine_quality_root_mean_squared_error: 0.7040 - val_wine_type_accuracy: 0.9785\n",
      "Epoch 152/180\n",
      "3155/3155 [==============================] - 0s 89us/sample - loss: 0.4955 - wine_quality_loss: 0.4042 - wine_type_loss: 0.0910 - wine_quality_root_mean_squared_error: 0.6358 - wine_type_accuracy: 0.9718 - val_loss: 0.4363 - val_wine_quality_loss: 0.3412 - val_wine_type_loss: 0.0938 - val_wine_quality_root_mean_squared_error: 0.5847 - val_wine_type_accuracy: 0.9747\n",
      "Epoch 153/180\n",
      "3155/3155 [==============================] - 0s 75us/sample - loss: 0.5043 - wine_quality_loss: 0.4130 - wine_type_loss: 0.0909 - wine_quality_root_mean_squared_error: 0.6429 - wine_type_accuracy: 0.9702 - val_loss: 0.4615 - val_wine_quality_loss: 0.3661 - val_wine_type_loss: 0.0937 - val_wine_quality_root_mean_squared_error: 0.6060 - val_wine_type_accuracy: 0.9747\n",
      "Epoch 154/180\n",
      "3155/3155 [==============================] - 0s 92us/sample - loss: 0.5013 - wine_quality_loss: 0.4096 - wine_type_loss: 0.0909 - wine_quality_root_mean_squared_error: 0.6404 - wine_type_accuracy: 0.9715 - val_loss: 0.5375 - val_wine_quality_loss: 0.4443 - val_wine_type_loss: 0.0938 - val_wine_quality_root_mean_squared_error: 0.6658 - val_wine_type_accuracy: 0.9772\n",
      "Epoch 155/180\n",
      "3155/3155 [==============================] - 0s 91us/sample - loss: 0.5039 - wine_quality_loss: 0.4138 - wine_type_loss: 0.0892 - wine_quality_root_mean_squared_error: 0.6437 - wine_type_accuracy: 0.9718 - val_loss: 0.4452 - val_wine_quality_loss: 0.3515 - val_wine_type_loss: 0.0931 - val_wine_quality_root_mean_squared_error: 0.5930 - val_wine_type_accuracy: 0.9747\n",
      "Epoch 156/180\n",
      "3155/3155 [==============================] - 0s 88us/sample - loss: 0.4975 - wine_quality_loss: 0.4076 - wine_type_loss: 0.0898 - wine_quality_root_mean_squared_error: 0.6384 - wine_type_accuracy: 0.9727 - val_loss: 0.4352 - val_wine_quality_loss: 0.3410 - val_wine_type_loss: 0.0929 - val_wine_quality_root_mean_squared_error: 0.5846 - val_wine_type_accuracy: 0.9734\n",
      "Epoch 157/180\n",
      "3155/3155 [==============================] - 0s 75us/sample - loss: 0.4995 - wine_quality_loss: 0.4103 - wine_type_loss: 0.0891 - wine_quality_root_mean_squared_error: 0.6404 - wine_type_accuracy: 0.9743 - val_loss: 0.4667 - val_wine_quality_loss: 0.3708 - val_wine_type_loss: 0.0956 - val_wine_quality_root_mean_squared_error: 0.6087 - val_wine_type_accuracy: 0.9721\n",
      "Epoch 158/180\n",
      "3155/3155 [==============================] - 0s 89us/sample - loss: 0.4894 - wine_quality_loss: 0.4017 - wine_type_loss: 0.0891 - wine_quality_root_mean_squared_error: 0.6329 - wine_type_accuracy: 0.9731 - val_loss: 0.5036 - val_wine_quality_loss: 0.4094 - val_wine_type_loss: 0.0920 - val_wine_quality_root_mean_squared_error: 0.6411 - val_wine_type_accuracy: 0.9759\n",
      "Epoch 159/180\n",
      "3155/3155 [==============================] - 0s 73us/sample - loss: 0.4981 - wine_quality_loss: 0.4101 - wine_type_loss: 0.0880 - wine_quality_root_mean_squared_error: 0.6402 - wine_type_accuracy: 0.9737 - val_loss: 0.5027 - val_wine_quality_loss: 0.4078 - val_wine_type_loss: 0.0929 - val_wine_quality_root_mean_squared_error: 0.6397 - val_wine_type_accuracy: 0.9734\n",
      "Epoch 160/180\n",
      "3155/3155 [==============================] - 0s 88us/sample - loss: 0.4902 - wine_quality_loss: 0.4024 - wine_type_loss: 0.0878 - wine_quality_root_mean_squared_error: 0.6342 - wine_type_accuracy: 0.9721 - val_loss: 0.4920 - val_wine_quality_loss: 0.3969 - val_wine_type_loss: 0.0933 - val_wine_quality_root_mean_squared_error: 0.6310 - val_wine_type_accuracy: 0.9721\n",
      "Epoch 161/180\n",
      "3155/3155 [==============================] - 0s 88us/sample - loss: 0.4897 - wine_quality_loss: 0.4009 - wine_type_loss: 0.0881 - wine_quality_root_mean_squared_error: 0.6336 - wine_type_accuracy: 0.9727 - val_loss: 0.4437 - val_wine_quality_loss: 0.3512 - val_wine_type_loss: 0.0909 - val_wine_quality_root_mean_squared_error: 0.5935 - val_wine_type_accuracy: 0.9759\n",
      "Epoch 162/180\n",
      "3155/3155 [==============================] - 0s 73us/sample - loss: 0.4990 - wine_quality_loss: 0.4130 - wine_type_loss: 0.0873 - wine_quality_root_mean_squared_error: 0.6415 - wine_type_accuracy: 0.9734 - val_loss: 0.7201 - val_wine_quality_loss: 0.6208 - val_wine_type_loss: 0.0966 - val_wine_quality_root_mean_squared_error: 0.7892 - val_wine_type_accuracy: 0.9721\n",
      "Epoch 163/180\n",
      "3155/3155 [==============================] - 0s 88us/sample - loss: 0.4877 - wine_quality_loss: 0.4009 - wine_type_loss: 0.0872 - wine_quality_root_mean_squared_error: 0.6334 - wine_type_accuracy: 0.9746 - val_loss: 0.4503 - val_wine_quality_loss: 0.3585 - val_wine_type_loss: 0.0905 - val_wine_quality_root_mean_squared_error: 0.5994 - val_wine_type_accuracy: 0.9797\n",
      "Epoch 164/180\n",
      "3155/3155 [==============================] - 0s 72us/sample - loss: 0.4871 - wine_quality_loss: 0.4001 - wine_type_loss: 0.0878 - wine_quality_root_mean_squared_error: 0.6325 - wine_type_accuracy: 0.9740 - val_loss: 0.4844 - val_wine_quality_loss: 0.3926 - val_wine_type_loss: 0.0900 - val_wine_quality_root_mean_squared_error: 0.6276 - val_wine_type_accuracy: 0.9797\n",
      "Epoch 165/180\n",
      "3155/3155 [==============================] - 0s 90us/sample - loss: 0.4882 - wine_quality_loss: 0.4019 - wine_type_loss: 0.0859 - wine_quality_root_mean_squared_error: 0.6340 - wine_type_accuracy: 0.9718 - val_loss: 0.4509 - val_wine_quality_loss: 0.3601 - val_wine_type_loss: 0.0893 - val_wine_quality_root_mean_squared_error: 0.6009 - val_wine_type_accuracy: 0.9759\n",
      "Epoch 166/180\n",
      "3155/3155 [==============================] - 0s 88us/sample - loss: 0.4884 - wine_quality_loss: 0.4027 - wine_type_loss: 0.0853 - wine_quality_root_mean_squared_error: 0.6347 - wine_type_accuracy: 0.9743 - val_loss: 0.5896 - val_wine_quality_loss: 0.5001 - val_wine_type_loss: 0.0902 - val_wine_quality_root_mean_squared_error: 0.7063 - val_wine_type_accuracy: 0.9785\n",
      "Epoch 167/180\n",
      "3155/3155 [==============================] - 0s 75us/sample - loss: 0.4894 - wine_quality_loss: 0.4044 - wine_type_loss: 0.0856 - wine_quality_root_mean_squared_error: 0.6357 - wine_type_accuracy: 0.9724 - val_loss: 0.6140 - val_wine_quality_loss: 0.5267 - val_wine_type_loss: 0.0886 - val_wine_quality_root_mean_squared_error: 0.7245 - val_wine_type_accuracy: 0.9759\n",
      "Epoch 168/180\n",
      "3155/3155 [==============================] - 0s 92us/sample - loss: 0.4891 - wine_quality_loss: 0.4051 - wine_type_loss: 0.0851 - wine_quality_root_mean_squared_error: 0.6355 - wine_type_accuracy: 0.9753 - val_loss: 0.5837 - val_wine_quality_loss: 0.4918 - val_wine_type_loss: 0.0898 - val_wine_quality_root_mean_squared_error: 0.7023 - val_wine_type_accuracy: 0.9747\n",
      "Epoch 169/180\n",
      "3155/3155 [==============================] - 0s 89us/sample - loss: 0.4793 - wine_quality_loss: 0.3941 - wine_type_loss: 0.0844 - wine_quality_root_mean_squared_error: 0.6282 - wine_type_accuracy: 0.9743 - val_loss: 0.4390 - val_wine_quality_loss: 0.3462 - val_wine_type_loss: 0.0920 - val_wine_quality_root_mean_squared_error: 0.5886 - val_wine_type_accuracy: 0.9747\n",
      "Epoch 170/180\n",
      "3155/3155 [==============================] - 0s 74us/sample - loss: 0.4782 - wine_quality_loss: 0.3944 - wine_type_loss: 0.0837 - wine_quality_root_mean_squared_error: 0.6281 - wine_type_accuracy: 0.9765 - val_loss: 0.5074 - val_wine_quality_loss: 0.4177 - val_wine_type_loss: 0.0878 - val_wine_quality_root_mean_squared_error: 0.6474 - val_wine_type_accuracy: 0.9785\n",
      "Epoch 171/180\n",
      "3155/3155 [==============================] - 0s 88us/sample - loss: 0.4896 - wine_quality_loss: 0.4050 - wine_type_loss: 0.0841 - wine_quality_root_mean_squared_error: 0.6367 - wine_type_accuracy: 0.9750 - val_loss: 0.4295 - val_wine_quality_loss: 0.3389 - val_wine_type_loss: 0.0892 - val_wine_quality_root_mean_squared_error: 0.5828 - val_wine_type_accuracy: 0.9759\n",
      "Epoch 172/180\n",
      "3155/3155 [==============================] - 0s 86us/sample - loss: 0.4874 - wine_quality_loss: 0.4052 - wine_type_loss: 0.0834 - wine_quality_root_mean_squared_error: 0.6356 - wine_type_accuracy: 0.9734 - val_loss: 0.6896 - val_wine_quality_loss: 0.5996 - val_wine_type_loss: 0.0921 - val_wine_quality_root_mean_squared_error: 0.7727 - val_wine_type_accuracy: 0.9785\n",
      "Epoch 173/180\n",
      "3155/3155 [==============================] - 0s 75us/sample - loss: 0.4873 - wine_quality_loss: 0.4047 - wine_type_loss: 0.0822 - wine_quality_root_mean_squared_error: 0.6362 - wine_type_accuracy: 0.9746 - val_loss: 0.4310 - val_wine_quality_loss: 0.3419 - val_wine_type_loss: 0.0877 - val_wine_quality_root_mean_squared_error: 0.5855 - val_wine_type_accuracy: 0.9772\n",
      "Epoch 174/180\n",
      "3155/3155 [==============================] - 0s 89us/sample - loss: 0.4821 - wine_quality_loss: 0.3995 - wine_type_loss: 0.0829 - wine_quality_root_mean_squared_error: 0.6321 - wine_type_accuracy: 0.9753 - val_loss: 0.4330 - val_wine_quality_loss: 0.3427 - val_wine_type_loss: 0.0893 - val_wine_quality_root_mean_squared_error: 0.5857 - val_wine_type_accuracy: 0.9759\n",
      "Epoch 175/180\n",
      "3155/3155 [==============================] - 0s 74us/sample - loss: 0.4697 - wine_quality_loss: 0.3874 - wine_type_loss: 0.0832 - wine_quality_root_mean_squared_error: 0.6226 - wine_type_accuracy: 0.9769 - val_loss: 0.4645 - val_wine_quality_loss: 0.3734 - val_wine_type_loss: 0.0894 - val_wine_quality_root_mean_squared_error: 0.6121 - val_wine_type_accuracy: 0.9772\n",
      "Epoch 176/180\n",
      "3155/3155 [==============================] - 0s 89us/sample - loss: 0.4778 - wine_quality_loss: 0.3954 - wine_type_loss: 0.0821 - wine_quality_root_mean_squared_error: 0.6292 - wine_type_accuracy: 0.9750 - val_loss: 0.4903 - val_wine_quality_loss: 0.4028 - val_wine_type_loss: 0.0877 - val_wine_quality_root_mean_squared_error: 0.6340 - val_wine_type_accuracy: 0.9772\n",
      "Epoch 177/180\n",
      "3155/3155 [==============================] - 0s 89us/sample - loss: 0.4890 - wine_quality_loss: 0.4077 - wine_type_loss: 0.0812 - wine_quality_root_mean_squared_error: 0.6384 - wine_type_accuracy: 0.9765 - val_loss: 0.4909 - val_wine_quality_loss: 0.4055 - val_wine_type_loss: 0.0857 - val_wine_quality_root_mean_squared_error: 0.6362 - val_wine_type_accuracy: 0.9785\n",
      "Epoch 178/180\n",
      "3155/3155 [==============================] - 0s 73us/sample - loss: 0.4827 - wine_quality_loss: 0.4017 - wine_type_loss: 0.0813 - wine_quality_root_mean_squared_error: 0.6339 - wine_type_accuracy: 0.9762 - val_loss: 0.7602 - val_wine_quality_loss: 0.6755 - val_wine_type_loss: 0.0869 - val_wine_quality_root_mean_squared_error: 0.8202 - val_wine_type_accuracy: 0.9785\n",
      "Epoch 179/180\n",
      "3155/3155 [==============================] - 0s 88us/sample - loss: 0.4762 - wine_quality_loss: 0.3958 - wine_type_loss: 0.0805 - wine_quality_root_mean_squared_error: 0.6289 - wine_type_accuracy: 0.9765 - val_loss: 0.6936 - val_wine_quality_loss: 0.6030 - val_wine_type_loss: 0.0880 - val_wine_quality_root_mean_squared_error: 0.7778 - val_wine_type_accuracy: 0.9785\n",
      "Epoch 180/180\n",
      "3155/3155 [==============================] - 0s 71us/sample - loss: 0.4821 - wine_quality_loss: 0.4009 - wine_type_loss: 0.0816 - wine_quality_root_mean_squared_error: 0.6334 - wine_type_accuracy: 0.9759 - val_loss: 0.5807 - val_wine_quality_loss: 0.4932 - val_wine_type_loss: 0.0851 - val_wine_quality_root_mean_squared_error: 0.7037 - val_wine_type_accuracy: 0.9785\n"
     ]
    }
   ],
   "source": [
    "## Please uncomment all lines in this cell and replace those marked with `# YOUR CODE HERE`.\n",
    "## You can select all lines in this code cell with Ctrl+A (Windows/Linux) or Cmd+A (Mac), then press Ctrl+/ (Windows/Linux) or Cmd+/ (Mac) to uncomment.\n",
    "\n",
    "\n",
    "\n",
    "history = model.fit(train, train_Y,\n",
    "                    epochs = 180, validation_data=(val, val_Y))"
   ]
  },
  {
   "cell_type": "code",
   "execution_count": 40,
   "metadata": {
    "deletable": false,
    "editable": false,
    "nbgrader": {
     "cell_type": "code",
     "checksum": "fadad8896eda9c8c2115970724b15508",
     "grade": true,
     "grade_id": "cell-eb4d5b41bef8f0ab",
     "locked": true,
     "points": 1,
     "schema_version": 3,
     "solution": false,
     "task": false
    }
   },
   "outputs": [
    {
     "name": "stdout",
     "output_type": "stream",
     "text": [
      "\u001b[92m All public tests passed\n"
     ]
    }
   ],
   "source": [
    "utils.test_history(history)"
   ]
  },
  {
   "cell_type": "code",
   "execution_count": 41,
   "metadata": {
    "colab": {},
    "colab_type": "code",
    "id": "CubF2J2gSf6q"
   },
   "outputs": [
    {
     "name": "stdout",
     "output_type": "stream",
     "text": [
      "789/789 [==============================] - 0s 20us/sample - loss: 33.0343 - wine_quality_loss: 32.7164 - wine_type_loss: 0.3243 - wine_quality_root_mean_squared_error: 5.7193 - wine_type_accuracy: 0.9024\n",
      "\n",
      "loss: 33.034321097215624\n",
      "wine_quality_loss: 32.716400146484375\n",
      "wine_type_loss: 0.32428115606307983\n",
      "wine_quality_rmse: 5.7193284034729\n",
      "wine_type_accuracy: 0.9024081230163574\n"
     ]
    }
   ],
   "source": [
    "# Gather the training metrics\n",
    "loss, wine_quality_loss, wine_type_loss, wine_quality_rmse, wine_type_accuracy = model.evaluate(x=norm_val_X, y=val_Y)\n",
    "\n",
    "print()\n",
    "print(f'loss: {loss}')\n",
    "print(f'wine_quality_loss: {wine_quality_loss}')\n",
    "print(f'wine_type_loss: {wine_type_loss}')\n",
    "print(f'wine_quality_rmse: {wine_quality_rmse}')\n",
    "print(f'wine_type_accuracy: {wine_type_accuracy}')\n",
    "\n",
    "# EXPECTED VALUES\n",
    "# ~ 0.30 - 0.38\n",
    "# ~ 0.30 - 0.38\n",
    "# ~ 0.018 - 0.030\n",
    "# ~ 0.50 - 0.62\n",
    "# ~ 0.97 - 1.0\n",
    "\n",
    "# Example:\n",
    "#0.3657050132751465\n",
    "#0.3463745415210724\n",
    "#0.019330406561493874\n",
    "#0.5885359048843384\n",
    "#0.9974651336669922"
   ]
  },
  {
   "cell_type": "markdown",
   "metadata": {
    "colab_type": "text",
    "id": "gPtTGAP4usnm"
   },
   "source": [
    "## Analyze the Model Performance\n",
    "\n",
    "Note that the model has two outputs. The output at index 0 is quality and index 1 is wine type\n",
    "\n",
    "So, round the quality predictions to the nearest integer."
   ]
  },
  {
   "cell_type": "code",
   "execution_count": 42,
   "metadata": {
    "colab": {},
    "colab_type": "code",
    "id": "tBq9PEeAaW-Y"
   },
   "outputs": [],
   "source": [
    "predictions = model.predict(norm_test_X)\n",
    "quality_pred = predictions[0]\n",
    "type_pred = predictions[1]"
   ]
  },
  {
   "cell_type": "code",
   "execution_count": 43,
   "metadata": {
    "colab": {},
    "colab_type": "code",
    "id": "YLhgTR4xTIxj"
   },
   "outputs": [
    {
     "name": "stdout",
     "output_type": "stream",
     "text": [
      "[0.05789534]\n"
     ]
    }
   ],
   "source": [
    "print(quality_pred[0])\n",
    "\n",
    "# EXPECTED OUTPUT\n",
    "# 5.6 - 6.0"
   ]
  },
  {
   "cell_type": "code",
   "execution_count": 44,
   "metadata": {
    "colab": {},
    "colab_type": "code",
    "id": "MPi-eYfGTUXi"
   },
   "outputs": [
    {
     "name": "stdout",
     "output_type": "stream",
     "text": [
      "[0.2428004]\n",
      "[0.99999034]\n"
     ]
    }
   ],
   "source": [
    "print(type_pred[0])\n",
    "print(type_pred[944])\n",
    "\n",
    "# EXPECTED OUTPUT\n",
    "# A number close to zero\n",
    "# A number close to or equal to 1"
   ]
  },
  {
   "cell_type": "markdown",
   "metadata": {
    "colab_type": "text",
    "id": "Kohk-9C6vt_s"
   },
   "source": [
    "### Plot Utilities\n",
    "\n",
    "We define a few utilities to visualize the model performance."
   ]
  },
  {
   "cell_type": "code",
   "execution_count": 45,
   "metadata": {
    "colab": {},
    "colab_type": "code",
    "id": "62gEOFUhn6aQ"
   },
   "outputs": [],
   "source": [
    "def plot_metrics(metric_name, title, ylim=5):\n",
    "    plt.title(title)\n",
    "    plt.ylim(0,ylim)\n",
    "    plt.plot(history.history[metric_name],color='blue',label=metric_name)\n",
    "    plt.plot(history.history['val_' + metric_name],color='green',label='val_' + metric_name)\n"
   ]
  },
  {
   "cell_type": "code",
   "execution_count": 46,
   "metadata": {
    "colab": {},
    "colab_type": "code",
    "id": "6rfgSx7uz5dj"
   },
   "outputs": [],
   "source": [
    "def plot_confusion_matrix(y_true, y_pred, title='', labels=[0,1]):\n",
    "    cm = confusion_matrix(y_true, y_pred)\n",
    "    fig = plt.figure()\n",
    "    ax = fig.add_subplot(111)\n",
    "    cax = ax.matshow(cm)\n",
    "    plt.title('Confusion matrix of the classifier')\n",
    "    fig.colorbar(cax)\n",
    "    ax.set_xticklabels([''] + labels)\n",
    "    ax.set_yticklabels([''] + labels)\n",
    "    plt.xlabel('Predicted')\n",
    "    plt.ylabel('True')\n",
    "    fmt = 'd'\n",
    "    thresh = cm.max() / 2.\n",
    "    for i, j in itertools.product(range(cm.shape[0]), range(cm.shape[1])):\n",
    "          plt.text(j, i, format(cm[i, j], fmt),\n",
    "                  horizontalalignment=\"center\",\n",
    "                  color=\"black\" if cm[i, j] > thresh else \"white\")\n",
    "    plt.show()"
   ]
  },
  {
   "cell_type": "code",
   "execution_count": 47,
   "metadata": {
    "colab": {},
    "colab_type": "code",
    "id": "dfVLIqi017Vf"
   },
   "outputs": [],
   "source": [
    "def plot_diff(y_true, y_pred, title = '' ):\n",
    "    plt.scatter(y_true, y_pred)\n",
    "    plt.title(title)\n",
    "    plt.xlabel('True Values')\n",
    "    plt.ylabel('Predictions')\n",
    "    plt.axis('equal')\n",
    "    plt.axis('square')\n",
    "    plt.plot([-100, 100], [-100, 100])\n",
    "    return plt"
   ]
  },
  {
   "cell_type": "markdown",
   "metadata": {
    "colab_type": "text",
    "id": "8sd1jdFbwE0I"
   },
   "source": [
    "### Plots for Metrics"
   ]
  },
  {
   "cell_type": "code",
   "execution_count": 48,
   "metadata": {
    "colab": {},
    "colab_type": "code",
    "id": "f3MwZ5J1pOfj"
   },
   "outputs": [
    {
     "data": {
      "image/png": "[encoded data removed]",
      "text/plain": [
       "<Figure size 432x288 with 1 Axes>"
      ]
     },
     "metadata": {
      "needs_background": "light"
     },
     "output_type": "display_data"
    }
   ],
   "source": [
    "plot_metrics('wine_quality_root_mean_squared_error', 'RMSE', ylim=2)"
   ]
  },
  {
   "cell_type": "code",
   "execution_count": 49,
   "metadata": {
    "colab": {},
    "colab_type": "code",
    "id": "QIAxEezCppnd"
   },
   "outputs": [
    {
     "data": {
      "image/png": "[encoded data removed]",
      "text/plain": [
       "<Figure size 432x288 with 1 Axes>"
      ]
     },
     "metadata": {
      "needs_background": "light"
     },
     "output_type": "display_data"
    }
   ],
   "source": [
    "plot_metrics('wine_type_loss', 'Wine Type Loss', ylim=0.2)"
   ]
  },
  {
   "cell_type": "markdown",
   "metadata": {
    "colab_type": "text",
    "id": "uYV9AOAMwI9p"
   },
   "source": [
    "### Plots for Confusion Matrix\n",
    "\n",
    "Plot the confusion matrices for wine type. You can see that the model performs well for prediction of wine type from the confusion matrix and the loss metrics."
   ]
  },
  {
   "cell_type": "code",
   "execution_count": 50,
   "metadata": {
    "colab": {},
    "colab_type": "code",
    "id": "C3hvTYxIaf3n"
   },
   "outputs": [
    {
     "data": {
      "image/png": "[encoded data removed]",
      "text/plain": [
       "<Figure size 432x288 with 2 Axes>"
      ]
     },
     "metadata": {
      "needs_background": "light"
     },
     "output_type": "display_data"
    }
   ],
   "source": [
    "plot_confusion_matrix(test_Y[1], np.round(type_pred), title='Wine Type', labels = [0, 1])"
   ]
  },
  {
   "cell_type": "code",
   "execution_count": 51,
   "metadata": {
    "colab": {},
    "colab_type": "code",
    "id": "GW91ym8P2I5y"
   },
   "outputs": [
    {
     "data": {
      "image/png": "[encoded data removed]",
      "text/plain": [
       "<Figure size 432x288 with 1 Axes>"
      ]
     },
     "metadata": {
      "needs_background": "light"
     },
     "output_type": "display_data"
    }
   ],
   "source": [
    "scatter_plot = plot_diff(test_Y[0], quality_pred, title='Type')"
   ]
  },
  {
   "cell_type": "code",
   "execution_count": null,
   "metadata": {},
   "outputs": [],
   "source": []
  }
 ],
 "metadata": {
  "colab": {
   "include_colab_link": true,
   "name": "exercise-answer.ipynb",
   "provenance": []
  },
  "kernelspec": {
   "display_name": "Python 3",
   "language": "python",
   "name": "python3"
  },
  "language_info": {
   "codemirror_mode": {
    "name": "ipython",
    "version": 3
   },
   "file_extension": ".py",
   "mimetype": "text/x-python",
   "name": "python",
   "nbconvert_exporter": "python",
   "pygments_lexer": "ipython3",
   "version": "3.7.6"
  }
 },
 "nbformat": 4,
 "nbformat_minor": 4
}
